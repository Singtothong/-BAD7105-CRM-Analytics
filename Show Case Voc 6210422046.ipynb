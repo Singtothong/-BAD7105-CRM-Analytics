{
 "cells": [
  {
   "cell_type": "markdown",
   "metadata": {
    "id": "WrQbd86APp-2"
   },
   "source": [
    "**Step 0 - install and import dependencies**"
   ]
  },
  {
   "cell_type": "code",
   "execution_count": 1,
   "metadata": {
    "colab": {
     "base_uri": "https://localhost:8080/"
    },
    "executionInfo": {
     "elapsed": 14330,
     "status": "ok",
     "timestamp": 1636856092291,
     "user": {
      "displayName": "Thanachart Ritbumroong",
      "photoUrl": "https://lh3.googleusercontent.com/a/default-user=s64",
      "userId": "18414212507793256437"
     },
     "user_tz": -420
    },
    "id": "bF2rn-l5Rp4U",
    "outputId": "7cd7f7b3-847f-45f4-c596-74a475075c1a"
   },
   "outputs": [],
   "source": [
    "#!pip install pythainlp\n",
    "#!pip install tensorflow_text\n",
    "#!pip install umap-learn"
   ]
  },
  {
   "cell_type": "code",
   "execution_count": 2,
   "metadata": {
    "id": "7GvuznzISB-h"
   },
   "outputs": [],
   "source": [
    "import numpy as np\n",
    "import pandas as pd\n",
    "import re\n",
    "\n",
    "import tensorflow as tf\n",
    "import tensorflow_hub as hub\n",
    "import tensorflow_text\n",
    "import umap\n",
    "\n",
    "from sklearn.cluster import KMeans\n",
    "import matplotlib.pyplot as plt\n",
    "\n",
    "from sklearn.cluster import AgglomerativeClustering\n",
    "from sklearn.neighbors import kneighbors_graph\n",
    "\n",
    "import pythainlp\n",
    "from pythainlp.corpus.common import thai_words\n",
    "from pythainlp.util import Trie\n",
    "import collections\n",
    "\n",
    "from gensim.test.utils import common_texts\n",
    "\n",
    "from gensim.models.doc2vec import Doc2Vec, TaggedDocument\n"
   ]
  },
  {
   "cell_type": "code",
   "execution_count": 3,
   "metadata": {
    "id": "dZiaG3R4b6kN"
   },
   "outputs": [],
   "source": [
    "df = pd.read_csv(\"Wongnai Reviews - Small.csv\")"
   ]
  },
  {
   "cell_type": "code",
   "execution_count": 4,
   "metadata": {
    "colab": {
     "base_uri": "https://localhost:8080/",
     "height": 204
    },
    "executionInfo": {
     "elapsed": 5,
     "status": "ok",
     "timestamp": 1636856111354,
     "user": {
      "displayName": "Thanachart Ritbumroong",
      "photoUrl": "https://lh3.googleusercontent.com/a/default-user=s64",
      "userId": "18414212507793256437"
     },
     "user_tz": -420
    },
    "id": "gonSv6i4cVs1",
    "outputId": "f6e90271-f58b-4cb1-dcde-009ce6be5394",
    "scrolled": true
   },
   "outputs": [
    {
     "data": {
      "text/html": [
       "<div>\n",
       "<style scoped>\n",
       "    .dataframe tbody tr th:only-of-type {\n",
       "        vertical-align: middle;\n",
       "    }\n",
       "\n",
       "    .dataframe tbody tr th {\n",
       "        vertical-align: top;\n",
       "    }\n",
       "\n",
       "    .dataframe thead th {\n",
       "        text-align: right;\n",
       "    }\n",
       "</style>\n",
       "<table border=\"1\" class=\"dataframe\">\n",
       "  <thead>\n",
       "    <tr style=\"text-align: right;\">\n",
       "      <th></th>\n",
       "      <th>Review ID</th>\n",
       "      <th>Review</th>\n",
       "    </tr>\n",
       "  </thead>\n",
       "  <tbody>\n",
       "    <tr>\n",
       "      <th>0</th>\n",
       "      <td>1</td>\n",
       "      <td>เป็นคนที่ชอบทาน Macchiato เป็นประจำ มีวันนึงเด...</td>\n",
       "    </tr>\n",
       "    <tr>\n",
       "      <th>1</th>\n",
       "      <td>2</td>\n",
       "      <td>Art of Coffee Kasetsart เป็นร้านกาแฟรสชาติเยี่...</td>\n",
       "    </tr>\n",
       "    <tr>\n",
       "      <th>2</th>\n",
       "      <td>3</td>\n",
       "      <td>กวงทะเลเผา อาหารทะเลเค้าสดจริงๆเนื้อปูหวานไม่ค...</td>\n",
       "    </tr>\n",
       "    <tr>\n",
       "      <th>3</th>\n",
       "      <td>4</td>\n",
       "      <td>วันนี้มีโอกาสตื่นเช้าครับเลยถึงโอกาสออกมาหาอะไ...</td>\n",
       "    </tr>\n",
       "    <tr>\n",
       "      <th>4</th>\n",
       "      <td>5</td>\n",
       "      <td>ชอบมาทานร้านนี้ถ้าอยากกินอาหารเวียดนามใกล้บ้าน...</td>\n",
       "    </tr>\n",
       "  </tbody>\n",
       "</table>\n",
       "</div>"
      ],
      "text/plain": [
       "   Review ID                                             Review\n",
       "0          1  เป็นคนที่ชอบทาน Macchiato เป็นประจำ มีวันนึงเด...\n",
       "1          2  Art of Coffee Kasetsart เป็นร้านกาแฟรสชาติเยี่...\n",
       "2          3  กวงทะเลเผา อาหารทะเลเค้าสดจริงๆเนื้อปูหวานไม่ค...\n",
       "3          4  วันนี้มีโอกาสตื่นเช้าครับเลยถึงโอกาสออกมาหาอะไ...\n",
       "4          5  ชอบมาทานร้านนี้ถ้าอยากกินอาหารเวียดนามใกล้บ้าน..."
      ]
     },
     "execution_count": 4,
     "metadata": {},
     "output_type": "execute_result"
    }
   ],
   "source": [
    "df.head()"
   ]
  },
  {
   "cell_type": "code",
   "execution_count": 5,
   "metadata": {
    "id": "JydvwIz5NcaI"
   },
   "outputs": [],
   "source": [
    "#create regex compiler for removal of a character you don't want\n",
    "\n",
    "special_characters = \"/[!@#$%^&*'?+]/g\"\n",
    "\n",
    "specialchar_pattern = re.compile(special_characters)"
   ]
  },
  {
   "cell_type": "code",
   "execution_count": 6,
   "metadata": {
    "id": "R8ymEA_2EhGi"
   },
   "outputs": [],
   "source": [
    "#create regex compiler for removal of any emoji\n",
    "\n",
    "emoji_pattern = re.compile(\"[\"\n",
    "        u\"\\U0001F600-\\U0001F64F\"  # emoticons\n",
    "        u\"\\U0001F300-\\U0001F5FF\"  # symbols & pictographs\n",
    "        u\"\\U0001F680-\\U0001F6FF\"  # transport & map symbols\n",
    "        u\"\\U0001F1E0-\\U0001F1FF\"  # flags (iOS)\n",
    "                           \"]+\", flags=re.UNICODE)"
   ]
  },
  {
   "cell_type": "code",
   "execution_count": 7,
   "metadata": {
    "id": "9Q93YKJZK5ak"
   },
   "outputs": [],
   "source": [
    "#create regex compiler for removal of digit\n",
    "\n",
    "number_pattern = re.compile(\"[0-9]\")"
   ]
  },
  {
   "cell_type": "code",
   "execution_count": 8,
   "metadata": {
    "id": "sHZ0HKlXNeSi"
   },
   "outputs": [],
   "source": [
    "#create regex compiler for removal of white space\n",
    "\n",
    "space_pattern = re.compile(\"\\s+\")"
   ]
  },
  {
   "cell_type": "code",
   "execution_count": 9,
   "metadata": {
    "id": "-orHzqLkNupd"
   },
   "outputs": [],
   "source": [
    "#create regex compiler for removal of .\n",
    "dot_pattern = re.compile(r\"\\.+\")"
   ]
  },
  {
   "cell_type": "code",
   "execution_count": 10,
   "metadata": {
    "id": "v7bW9th9N7oG"
   },
   "outputs": [],
   "source": [
    "#create regex compiler for removal of \\\n",
    "backslash_pattern = re.compile(r\"\\\\+\")"
   ]
  },
  {
   "cell_type": "code",
   "execution_count": 11,
   "metadata": {
    "id": "ZGVvQhZz4tGs"
   },
   "outputs": [],
   "source": [
    "stopwords = list(pythainlp.corpus.thai_stopwords())\n",
    "removed_words = ['u', 'b', 'n', 'nn', 'nn-', '\\n', 'ร้าน' , 'กก' , 'บ้าน' , '[\\'' , 'นะคะ' , 'ค่ะ' , 'ครับ' , 'นะครับ' , 'นะ' , 'ไหม' , 'ดิชั้น' , 'รีวิว' ,\n",
    "                 'review' , 'สั่ง' , 'เกริ่น' , 'วัง' , 'สวัสดี' , 'เด' , 'ที่ตั้ง' , 'ผม' , 'ดิฉัน' , 'ฉัน' , 'ดิชั้น' , 'ตั้งอยู่' , 'น']\n",
    "screening_words = stopwords + removed_words\n",
    "\n",
    "new_words = {\"สตารบัก\" , 'พนักงาน' , 'บรรยากาศ' , 'เอ๊กซ์เพรสโซ่ไอซ์' , 'ลาเต้ไอซ' , 'คาราเมล' , 'มัคคิอาโต้' , 'ชาอัสสัม', 'ชาซีลอน',\n",
    "             'อิตาเลียนโซดา' , 'ทะเล' , 'Macchiato' , 'อุดหนุน' , 'เบอเกอรี่' , 'ทรูคอฟฟี่' ,'สาขา.*' , 'อเมซอน' ,'ชานม' , 'ชานมไข่มุก',\n",
    "             'ชาไต้หวัน' , 'ชานมไต้หวัน' , 'คาเฟอีน' , 'สไตล์' , 'จองล่วงหน้า' , 'นั่งชิล' , 'กรอบ' , '.*เค้ก' , 'มอคค่า' , 'ไม่อร่อย' 'ไม่ผ่าน',\n",
    "             'ค่อนข้าง' , 'ไม่ค่อย' , 'ห้ามพลาด' , 'รถไฟฟ้า' , 'ปลาร้า' , 'เป็ด.*'}\n",
    "\n",
    "words = new_words.union(thai_words())\n",
    "\n",
    "custom_dictionary_trie = Trie(words)\n",
    "\n",
    "def tokenize_to_list(sentence):\n",
    "  merged = []\n",
    "  words = pythainlp.word_tokenize(str(sentence), engine='newmm', custom_dict=custom_dictionary_trie)\n",
    "  for word in words:\n",
    "    if word not in screening_words:\n",
    "      merged.append(word)\n",
    "  return merged"
   ]
  },
  {
   "cell_type": "code",
   "execution_count": 12,
   "metadata": {
    "id": "MnN1ekEoL9ug"
   },
   "outputs": [],
   "source": [
    "#clean and tokenize sentences. count the occurences of each word\n",
    "df['Review'] = df['Review'].apply(lambda x: emoji_pattern.sub(r'', x))\n",
    "df['Review'] = df['Review'].apply(lambda x: specialchar_pattern.sub(r'', x))\n",
    "df['Review'] = df['Review'].apply(lambda x: number_pattern.sub(r'', x))\n",
    "df['Review'] = df['Review'].apply(lambda x: space_pattern.sub(r'', x))\n",
    "df['Review'] = df['Review'].apply(lambda x: dot_pattern.sub(r'', x))\n",
    "df['Review'] = df['Review'].apply(lambda x: backslash_pattern.sub(r'', x))\n",
    "df['Review_tokenized'] = df['Review'].apply(lambda x: tokenize_to_list(x))"
   ]
  },
  {
   "cell_type": "code",
   "execution_count": 13,
   "metadata": {
    "scrolled": true
   },
   "outputs": [
    {
     "data": {
      "text/html": [
       "<div>\n",
       "<style scoped>\n",
       "    .dataframe tbody tr th:only-of-type {\n",
       "        vertical-align: middle;\n",
       "    }\n",
       "\n",
       "    .dataframe tbody tr th {\n",
       "        vertical-align: top;\n",
       "    }\n",
       "\n",
       "    .dataframe thead th {\n",
       "        text-align: right;\n",
       "    }\n",
       "</style>\n",
       "<table border=\"1\" class=\"dataframe\">\n",
       "  <thead>\n",
       "    <tr style=\"text-align: right;\">\n",
       "      <th></th>\n",
       "      <th>Review ID</th>\n",
       "      <th>Review</th>\n",
       "      <th>Review_tokenized</th>\n",
       "    </tr>\n",
       "  </thead>\n",
       "  <tbody>\n",
       "    <tr>\n",
       "      <th>0</th>\n",
       "      <td>1</td>\n",
       "      <td>เป็นคนที่ชอบทานMacchiatoเป็นประจำมีวันนึงเดินเ...</td>\n",
       "      <td>[คน, ชอบ, ทาน, Macchiato, เป็นประจำ, นึง, เดิน...</td>\n",
       "    </tr>\n",
       "    <tr>\n",
       "      <th>1</th>\n",
       "      <td>2</td>\n",
       "      <td>ArtofCoffeeKasetsartเป็นร้านกาแฟรสชาติเยี่ยมรา...</td>\n",
       "      <td>[ArtofCoffeeKasetsart, ร้านกาแฟ, รสชาติ, เยี่ย...</td>\n",
       "    </tr>\n",
       "    <tr>\n",
       "      <th>2</th>\n",
       "      <td>3</td>\n",
       "      <td>กวงทะเลเผาอาหารทะเลเค้าสดจริงๆเนื้อปูหวานไม่คา...</td>\n",
       "      <td>[กวง, ทะเล, เผา, อาหารทะเล, เค้า, สด, เนื้อ, ป...</td>\n",
       "    </tr>\n",
       "    <tr>\n",
       "      <th>3</th>\n",
       "      <td>4</td>\n",
       "      <td>วันนี้มีโอกาสตื่นเช้าครับเลยถึงโอกาสออกมาหาอะไ...</td>\n",
       "      <td>[มีโอกาส, ตื่น, เช้า, โอกาส, มาหา, อร่อย, ทาน,...</td>\n",
       "    </tr>\n",
       "    <tr>\n",
       "      <th>4</th>\n",
       "      <td>5</td>\n",
       "      <td>ชอบมาทานร้านนี้ถ้าอยากกินอาหารเวียดนามใกล้บ้าน...</td>\n",
       "      <td>[ชอบ, ทาน, กิน, อาหาร, เวียดนาม, ซอย, ราชครู, ...</td>\n",
       "    </tr>\n",
       "    <tr>\n",
       "      <th>...</th>\n",
       "      <td>...</td>\n",
       "      <td>...</td>\n",
       "      <td>...</td>\n",
       "    </tr>\n",
       "    <tr>\n",
       "      <th>295</th>\n",
       "      <td>296</td>\n",
       "      <td>ค่ำนี้คุณเพื่อนอยากส้มตำหมูเฮาเลยพากันลงมากินส...</td>\n",
       "      <td>[ค่ำ, เพื่อน, ส้มตำ, หมู, เฮา, ลงมา, กิน, ส้มต...</td>\n",
       "    </tr>\n",
       "    <tr>\n",
       "      <th>296</th>\n",
       "      <td>297</td>\n",
       "      <td>ร้านสะอาดดีตกแต่งสวยงามมีที่จอดรถราคาเมนูต่างๆ...</td>\n",
       "      <td>[สะอาด, ดี, ตกแต่ง, สวยงาม, ที่จอดรถ, ราคา, เม...</td>\n",
       "    </tr>\n",
       "    <tr>\n",
       "      <th>297</th>\n",
       "      <td>298</td>\n",
       "      <td>เช้าๆรีบๆวิ่งมาเข่าห้องเรียนแทบไม่ทันแต่ต้องหา...</td>\n",
       "      <td>[เช้า, รีบ, วิ่ง, เข่า, ห้องเรียน, แทบ, ต้องหา...</td>\n",
       "    </tr>\n",
       "    <tr>\n",
       "      <th>298</th>\n",
       "      <td>299</td>\n",
       "      <td>ร้านนี้เป็นร้านกาแฟเล็กๆข้างๆร้านๆHappyMangoคร...</td>\n",
       "      <td>[ร้านกาแฟ, HappyMango, อาทิตย์, นัด, เพื่อน, น...</td>\n",
       "    </tr>\n",
       "    <tr>\n",
       "      <th>299</th>\n",
       "      <td>300</td>\n",
       "      <td>ทรูคอฟฟี่สาขาซีคอนอยู่ในศูนย์บริการของทรูชั้นโ...</td>\n",
       "      <td>[ทรูคอฟฟี่, สาขา, ซีคอน, ศูนย์, บริการ, ทรู, ช...</td>\n",
       "    </tr>\n",
       "  </tbody>\n",
       "</table>\n",
       "<p>300 rows × 3 columns</p>\n",
       "</div>"
      ],
      "text/plain": [
       "     Review ID                                             Review  \\\n",
       "0            1  เป็นคนที่ชอบทานMacchiatoเป็นประจำมีวันนึงเดินเ...   \n",
       "1            2  ArtofCoffeeKasetsartเป็นร้านกาแฟรสชาติเยี่ยมรา...   \n",
       "2            3  กวงทะเลเผาอาหารทะเลเค้าสดจริงๆเนื้อปูหวานไม่คา...   \n",
       "3            4  วันนี้มีโอกาสตื่นเช้าครับเลยถึงโอกาสออกมาหาอะไ...   \n",
       "4            5  ชอบมาทานร้านนี้ถ้าอยากกินอาหารเวียดนามใกล้บ้าน...   \n",
       "..         ...                                                ...   \n",
       "295        296  ค่ำนี้คุณเพื่อนอยากส้มตำหมูเฮาเลยพากันลงมากินส...   \n",
       "296        297  ร้านสะอาดดีตกแต่งสวยงามมีที่จอดรถราคาเมนูต่างๆ...   \n",
       "297        298  เช้าๆรีบๆวิ่งมาเข่าห้องเรียนแทบไม่ทันแต่ต้องหา...   \n",
       "298        299  ร้านนี้เป็นร้านกาแฟเล็กๆข้างๆร้านๆHappyMangoคร...   \n",
       "299        300  ทรูคอฟฟี่สาขาซีคอนอยู่ในศูนย์บริการของทรูชั้นโ...   \n",
       "\n",
       "                                      Review_tokenized  \n",
       "0    [คน, ชอบ, ทาน, Macchiato, เป็นประจำ, นึง, เดิน...  \n",
       "1    [ArtofCoffeeKasetsart, ร้านกาแฟ, รสชาติ, เยี่ย...  \n",
       "2    [กวง, ทะเล, เผา, อาหารทะเล, เค้า, สด, เนื้อ, ป...  \n",
       "3    [มีโอกาส, ตื่น, เช้า, โอกาส, มาหา, อร่อย, ทาน,...  \n",
       "4    [ชอบ, ทาน, กิน, อาหาร, เวียดนาม, ซอย, ราชครู, ...  \n",
       "..                                                 ...  \n",
       "295  [ค่ำ, เพื่อน, ส้มตำ, หมู, เฮา, ลงมา, กิน, ส้มต...  \n",
       "296  [สะอาด, ดี, ตกแต่ง, สวยงาม, ที่จอดรถ, ราคา, เม...  \n",
       "297  [เช้า, รีบ, วิ่ง, เข่า, ห้องเรียน, แทบ, ต้องหา...  \n",
       "298  [ร้านกาแฟ, HappyMango, อาทิตย์, นัด, เพื่อน, น...  \n",
       "299  [ทรูคอฟฟี่, สาขา, ซีคอน, ศูนย์, บริการ, ทรู, ช...  \n",
       "\n",
       "[300 rows x 3 columns]"
      ]
     },
     "execution_count": 13,
     "metadata": {},
     "output_type": "execute_result"
    }
   ],
   "source": [
    "df"
   ]
  },
  {
   "cell_type": "code",
   "execution_count": 14,
   "metadata": {
    "scrolled": true
   },
   "outputs": [],
   "source": [
    "df_train = pd.read_csv(\"Train_file.csv\")"
   ]
  },
  {
   "cell_type": "code",
   "execution_count": 15,
   "metadata": {},
   "outputs": [],
   "source": [
    "df_train['review'] = df_train['review'].apply(str)"
   ]
  },
  {
   "cell_type": "code",
   "execution_count": 16,
   "metadata": {},
   "outputs": [
    {
     "data": {
      "text/html": [
       "<div>\n",
       "<style scoped>\n",
       "    .dataframe tbody tr th:only-of-type {\n",
       "        vertical-align: middle;\n",
       "    }\n",
       "\n",
       "    .dataframe tbody tr th {\n",
       "        vertical-align: top;\n",
       "    }\n",
       "\n",
       "    .dataframe thead th {\n",
       "        text-align: right;\n",
       "    }\n",
       "</style>\n",
       "<table border=\"1\" class=\"dataframe\">\n",
       "  <thead>\n",
       "    <tr style=\"text-align: right;\">\n",
       "      <th></th>\n",
       "      <th>reviewID</th>\n",
       "      <th>review</th>\n",
       "    </tr>\n",
       "  </thead>\n",
       "  <tbody>\n",
       "    <tr>\n",
       "      <th>0</th>\n",
       "      <td>1</td>\n",
       "      <td>ร้านนี้จะอยู่เส้นสันกำแพง-แม่ออน เลยแยกบ่...</td>\n",
       "    </tr>\n",
       "    <tr>\n",
       "      <th>1</th>\n",
       "      <td>2</td>\n",
       "      <td>สั่งไป2 เมนู คือมัชฉะลาเต้ร้อน กับ ไอศครีมชาเข...</td>\n",
       "    </tr>\n",
       "    <tr>\n",
       "      <th>2</th>\n",
       "      <td>3</td>\n",
       "      <td>ครัววงเดือน  \\n\\nหิวดึกๆ ตระเวนหาร้านทาน มาเจอ...</td>\n",
       "    </tr>\n",
       "    <tr>\n",
       "      <th>3</th>\n",
       "      <td>4</td>\n",
       "      <td>จะว่าเป็นเจ้าประจำก็คงไม่ผิด แต่ก็ไม่กล้า...</td>\n",
       "    </tr>\n",
       "    <tr>\n",
       "      <th>4</th>\n",
       "      <td>5</td>\n",
       "      <td>ถ้าคิดถึงสลัดผมคิดถึงร้านนี้เป็นร้านแรกๆเลยครั...</td>\n",
       "    </tr>\n",
       "    <tr>\n",
       "      <th>...</th>\n",
       "      <td>...</td>\n",
       "      <td>...</td>\n",
       "    </tr>\n",
       "    <tr>\n",
       "      <th>6198</th>\n",
       "      <td>6199</td>\n",
       "      <td>ร้านโรตีสายไหมพญาวัง อยู่ถนนรัตนโกสินทร์ หลังโ...</td>\n",
       "    </tr>\n",
       "    <tr>\n",
       "      <th>6199</th>\n",
       "      <td>6200</td>\n",
       "      <td>ข้าวผัดคอหมูย่าง ข้าวผัดมากลิ่นหอม คอหมูย่างอร...</td>\n",
       "    </tr>\n",
       "    <tr>\n",
       "      <th>6200</th>\n",
       "      <td>6201</td>\n",
       "      <td>ร้านอาหารมีหลายโซน แนะนำให้เดินดูก่อนค่อยเลือก...</td>\n",
       "    </tr>\n",
       "    <tr>\n",
       "      <th>6201</th>\n",
       "      <td>6202</td>\n",
       "      <td>ขนมปังร้านในเครือยามาซากิ จริงๆร้านนี้เปิ...</td>\n",
       "    </tr>\n",
       "    <tr>\n",
       "      <th>6202</th>\n",
       "      <td>6203</td>\n",
       "      <td>ร้านอาหารใหญ่มากกกกกกก \\nเลี้ยวเข้ามาเจอห้องน้...</td>\n",
       "    </tr>\n",
       "  </tbody>\n",
       "</table>\n",
       "<p>6203 rows × 2 columns</p>\n",
       "</div>"
      ],
      "text/plain": [
       "      reviewID                                             review\n",
       "0            1       ร้านนี้จะอยู่เส้นสันกำแพง-แม่ออน เลยแยกบ่...\n",
       "1            2  สั่งไป2 เมนู คือมัชฉะลาเต้ร้อน กับ ไอศครีมชาเข...\n",
       "2            3  ครัววงเดือน  \\n\\nหิวดึกๆ ตระเวนหาร้านทาน มาเจอ...\n",
       "3            4       จะว่าเป็นเจ้าประจำก็คงไม่ผิด แต่ก็ไม่กล้า...\n",
       "4            5  ถ้าคิดถึงสลัดผมคิดถึงร้านนี้เป็นร้านแรกๆเลยครั...\n",
       "...        ...                                                ...\n",
       "6198      6199  ร้านโรตีสายไหมพญาวัง อยู่ถนนรัตนโกสินทร์ หลังโ...\n",
       "6199      6200  ข้าวผัดคอหมูย่าง ข้าวผัดมากลิ่นหอม คอหมูย่างอร...\n",
       "6200      6201  ร้านอาหารมีหลายโซน แนะนำให้เดินดูก่อนค่อยเลือก...\n",
       "6201      6202       ขนมปังร้านในเครือยามาซากิ จริงๆร้านนี้เปิ...\n",
       "6202      6203  ร้านอาหารใหญ่มากกกกกกก \\nเลี้ยวเข้ามาเจอห้องน้...\n",
       "\n",
       "[6203 rows x 2 columns]"
      ]
     },
     "execution_count": 16,
     "metadata": {},
     "output_type": "execute_result"
    }
   ],
   "source": [
    "df_train"
   ]
  },
  {
   "cell_type": "code",
   "execution_count": 17,
   "metadata": {},
   "outputs": [],
   "source": [
    "#clean and tokenize sentences. count the occurences of each word\n",
    "df_train['review'] = df_train['review'].apply(lambda x: emoji_pattern.sub(r'', x))\n",
    "df_train['review'] = df_train['review'].apply(lambda x: specialchar_pattern.sub(r'', x))\n",
    "df_train['review'] = df_train['review'].apply(lambda x: number_pattern.sub(r'', x))\n",
    "df_train['review'] = df_train['review'].apply(lambda x: space_pattern.sub(r'', x))\n",
    "df_train['review'] = df_train['review'].apply(lambda x: dot_pattern.sub(r'', x))\n",
    "df_train['review'] = df_train['review'].apply(lambda x: backslash_pattern.sub(r'', x))\n",
    "df_train['review_tokenized'] = df_train['review'].apply(lambda x: tokenize_to_list(x))"
   ]
  },
  {
   "cell_type": "code",
   "execution_count": 18,
   "metadata": {},
   "outputs": [],
   "source": [
    "documents = [TaggedDocument(doc, [i]) for i, doc in enumerate(df_train.review_tokenized.values)]"
   ]
  },
  {
   "cell_type": "code",
   "execution_count": 52,
   "metadata": {},
   "outputs": [],
   "source": [
    "import gensim"
   ]
  },
  {
   "cell_type": "code",
   "execution_count": 74,
   "metadata": {},
   "outputs": [],
   "source": [
    "model = gensim.models.doc2vec.Doc2Vec(vector_size=30, min_count=2, epochs=40)"
   ]
  },
  {
   "cell_type": "code",
   "execution_count": 76,
   "metadata": {},
   "outputs": [],
   "source": [
    "model.build_vocab(documents)"
   ]
  },
  {
   "cell_type": "code",
   "execution_count": 79,
   "metadata": {},
   "outputs": [],
   "source": [
    "import logging\n",
    "logging.basicConfig(format='%(asctime)s : %(levelname)s : %(message)s', level=logging.INFO)"
   ]
  },
  {
   "cell_type": "code",
   "execution_count": 80,
   "metadata": {},
   "outputs": [
    {
     "name": "stderr",
     "output_type": "stream",
     "text": [
      "2021-12-18 03:55:28,870 : WARNING : Effective 'alpha' higher than previous training cycles\n",
      "2021-12-18 03:55:28,871 : INFO : Doc2Vec lifecycle event {'msg': 'training model with 3 workers on 10851 vocabulary and 30 features, using sg=0 hs=0 sample=0.001 negative=5 window=5 shrink_windows=True', 'datetime': '2021-12-18T03:55:28.871443', 'gensim': '4.1.2', 'python': '3.8.10 (default, May 19 2021, 13:12:57) [MSC v.1916 64 bit (AMD64)]', 'platform': 'Windows-10-10.0.19043-SP0', 'event': 'train'}\n",
      "2021-12-18 03:55:29,227 : INFO : worker thread finished; awaiting finish of 2 more threads\n",
      "2021-12-18 03:55:29,234 : INFO : worker thread finished; awaiting finish of 1 more threads\n",
      "2021-12-18 03:55:29,237 : INFO : worker thread finished; awaiting finish of 0 more threads\n",
      "2021-12-18 03:55:29,238 : INFO : EPOCH - 1 : training on 444871 raw words (391224 effective words) took 0.4s, 1073323 effective words/s\n",
      "2021-12-18 03:55:29,583 : INFO : worker thread finished; awaiting finish of 2 more threads\n",
      "2021-12-18 03:55:29,589 : INFO : worker thread finished; awaiting finish of 1 more threads\n",
      "2021-12-18 03:55:29,592 : INFO : worker thread finished; awaiting finish of 0 more threads\n",
      "2021-12-18 03:55:29,592 : INFO : EPOCH - 2 : training on 444871 raw words (390895 effective words) took 0.4s, 1110724 effective words/s\n",
      "2021-12-18 03:55:29,941 : INFO : worker thread finished; awaiting finish of 2 more threads\n",
      "2021-12-18 03:55:29,945 : INFO : worker thread finished; awaiting finish of 1 more threads\n",
      "2021-12-18 03:55:29,949 : INFO : worker thread finished; awaiting finish of 0 more threads\n",
      "2021-12-18 03:55:29,949 : INFO : EPOCH - 3 : training on 444871 raw words (390890 effective words) took 0.4s, 1101103 effective words/s\n",
      "2021-12-18 03:55:30,301 : INFO : worker thread finished; awaiting finish of 2 more threads\n",
      "2021-12-18 03:55:30,307 : INFO : worker thread finished; awaiting finish of 1 more threads\n",
      "2021-12-18 03:55:30,313 : INFO : worker thread finished; awaiting finish of 0 more threads\n",
      "2021-12-18 03:55:30,314 : INFO : EPOCH - 4 : training on 444871 raw words (391067 effective words) took 0.4s, 1079152 effective words/s\n",
      "2021-12-18 03:55:30,662 : INFO : worker thread finished; awaiting finish of 2 more threads\n",
      "2021-12-18 03:55:30,670 : INFO : worker thread finished; awaiting finish of 1 more threads\n",
      "2021-12-18 03:55:30,672 : INFO : worker thread finished; awaiting finish of 0 more threads\n",
      "2021-12-18 03:55:30,672 : INFO : EPOCH - 5 : training on 444871 raw words (391071 effective words) took 0.4s, 1099284 effective words/s\n",
      "2021-12-18 03:55:31,029 : INFO : worker thread finished; awaiting finish of 2 more threads\n",
      "2021-12-18 03:55:31,037 : INFO : worker thread finished; awaiting finish of 1 more threads\n",
      "2021-12-18 03:55:31,038 : INFO : worker thread finished; awaiting finish of 0 more threads\n",
      "2021-12-18 03:55:31,038 : INFO : EPOCH - 6 : training on 444871 raw words (391122 effective words) took 0.4s, 1075671 effective words/s\n",
      "2021-12-18 03:55:31,380 : INFO : worker thread finished; awaiting finish of 2 more threads\n",
      "2021-12-18 03:55:31,385 : INFO : worker thread finished; awaiting finish of 1 more threads\n",
      "2021-12-18 03:55:31,386 : INFO : worker thread finished; awaiting finish of 0 more threads\n",
      "2021-12-18 03:55:31,387 : INFO : EPOCH - 7 : training on 444871 raw words (391201 effective words) took 0.3s, 1130582 effective words/s\n",
      "2021-12-18 03:55:31,735 : INFO : worker thread finished; awaiting finish of 2 more threads\n",
      "2021-12-18 03:55:31,741 : INFO : worker thread finished; awaiting finish of 1 more threads\n",
      "2021-12-18 03:55:31,742 : INFO : worker thread finished; awaiting finish of 0 more threads\n",
      "2021-12-18 03:55:31,742 : INFO : EPOCH - 8 : training on 444871 raw words (391026 effective words) took 0.4s, 1107769 effective words/s\n",
      "2021-12-18 03:55:32,099 : INFO : worker thread finished; awaiting finish of 2 more threads\n",
      "2021-12-18 03:55:32,106 : INFO : worker thread finished; awaiting finish of 1 more threads\n",
      "2021-12-18 03:55:32,108 : INFO : worker thread finished; awaiting finish of 0 more threads\n",
      "2021-12-18 03:55:32,109 : INFO : EPOCH - 9 : training on 444871 raw words (391046 effective words) took 0.4s, 1075352 effective words/s\n",
      "2021-12-18 03:55:32,451 : INFO : worker thread finished; awaiting finish of 2 more threads\n",
      "2021-12-18 03:55:32,456 : INFO : worker thread finished; awaiting finish of 1 more threads\n",
      "2021-12-18 03:55:32,461 : INFO : worker thread finished; awaiting finish of 0 more threads\n",
      "2021-12-18 03:55:32,462 : INFO : EPOCH - 10 : training on 444871 raw words (391109 effective words) took 0.4s, 1115344 effective words/s\n",
      "2021-12-18 03:55:32,816 : INFO : worker thread finished; awaiting finish of 2 more threads\n",
      "2021-12-18 03:55:32,826 : INFO : worker thread finished; awaiting finish of 1 more threads\n",
      "2021-12-18 03:55:32,828 : INFO : worker thread finished; awaiting finish of 0 more threads\n",
      "2021-12-18 03:55:32,829 : INFO : EPOCH - 11 : training on 444871 raw words (391266 effective words) took 0.4s, 1072460 effective words/s\n",
      "2021-12-18 03:55:33,178 : INFO : worker thread finished; awaiting finish of 2 more threads\n",
      "2021-12-18 03:55:33,185 : INFO : worker thread finished; awaiting finish of 1 more threads\n",
      "2021-12-18 03:55:33,186 : INFO : worker thread finished; awaiting finish of 0 more threads\n",
      "2021-12-18 03:55:33,187 : INFO : EPOCH - 12 : training on 444871 raw words (391251 effective words) took 0.4s, 1098475 effective words/s\n",
      "2021-12-18 03:55:33,537 : INFO : worker thread finished; awaiting finish of 2 more threads\n",
      "2021-12-18 03:55:33,544 : INFO : worker thread finished; awaiting finish of 1 more threads\n",
      "2021-12-18 03:55:33,545 : INFO : worker thread finished; awaiting finish of 0 more threads\n",
      "2021-12-18 03:55:33,546 : INFO : EPOCH - 13 : training on 444871 raw words (391300 effective words) took 0.4s, 1096423 effective words/s\n",
      "2021-12-18 03:55:33,900 : INFO : worker thread finished; awaiting finish of 2 more threads\n",
      "2021-12-18 03:55:33,907 : INFO : worker thread finished; awaiting finish of 1 more threads\n",
      "2021-12-18 03:55:33,910 : INFO : worker thread finished; awaiting finish of 0 more threads\n",
      "2021-12-18 03:55:33,911 : INFO : EPOCH - 14 : training on 444871 raw words (391349 effective words) took 0.4s, 1079040 effective words/s\n",
      "2021-12-18 03:55:34,250 : INFO : worker thread finished; awaiting finish of 2 more threads\n",
      "2021-12-18 03:55:34,258 : INFO : worker thread finished; awaiting finish of 1 more threads\n",
      "2021-12-18 03:55:34,262 : INFO : worker thread finished; awaiting finish of 0 more threads\n",
      "2021-12-18 03:55:34,263 : INFO : EPOCH - 15 : training on 444871 raw words (391171 effective words) took 0.3s, 1117837 effective words/s\n",
      "2021-12-18 03:55:34,621 : INFO : worker thread finished; awaiting finish of 2 more threads\n",
      "2021-12-18 03:55:34,633 : INFO : worker thread finished; awaiting finish of 1 more threads\n",
      "2021-12-18 03:55:34,637 : INFO : worker thread finished; awaiting finish of 0 more threads\n",
      "2021-12-18 03:55:34,638 : INFO : EPOCH - 16 : training on 444871 raw words (391319 effective words) took 0.4s, 1051512 effective words/s\n",
      "2021-12-18 03:55:34,984 : INFO : worker thread finished; awaiting finish of 2 more threads\n",
      "2021-12-18 03:55:34,991 : INFO : worker thread finished; awaiting finish of 1 more threads\n",
      "2021-12-18 03:55:34,996 : INFO : worker thread finished; awaiting finish of 0 more threads\n",
      "2021-12-18 03:55:34,997 : INFO : EPOCH - 17 : training on 444871 raw words (390891 effective words) took 0.4s, 1095025 effective words/s\n",
      "2021-12-18 03:55:35,346 : INFO : worker thread finished; awaiting finish of 2 more threads\n",
      "2021-12-18 03:55:35,353 : INFO : worker thread finished; awaiting finish of 1 more threads\n",
      "2021-12-18 03:55:35,355 : INFO : worker thread finished; awaiting finish of 0 more threads\n",
      "2021-12-18 03:55:35,355 : INFO : EPOCH - 18 : training on 444871 raw words (391219 effective words) took 0.4s, 1099065 effective words/s\n",
      "2021-12-18 03:55:35,707 : INFO : worker thread finished; awaiting finish of 2 more threads\n",
      "2021-12-18 03:55:35,714 : INFO : worker thread finished; awaiting finish of 1 more threads\n",
      "2021-12-18 03:55:35,718 : INFO : worker thread finished; awaiting finish of 0 more threads\n",
      "2021-12-18 03:55:35,718 : INFO : EPOCH - 19 : training on 444871 raw words (391243 effective words) took 0.4s, 1084286 effective words/s\n"
     ]
    },
    {
     "name": "stderr",
     "output_type": "stream",
     "text": [
      "2021-12-18 03:55:36,062 : INFO : worker thread finished; awaiting finish of 2 more threads\n",
      "2021-12-18 03:55:36,069 : INFO : worker thread finished; awaiting finish of 1 more threads\n",
      "2021-12-18 03:55:36,072 : INFO : worker thread finished; awaiting finish of 0 more threads\n",
      "2021-12-18 03:55:36,072 : INFO : EPOCH - 20 : training on 444871 raw words (391198 effective words) took 0.4s, 1113038 effective words/s\n",
      "2021-12-18 03:55:36,428 : INFO : worker thread finished; awaiting finish of 2 more threads\n",
      "2021-12-18 03:55:36,436 : INFO : worker thread finished; awaiting finish of 1 more threads\n",
      "2021-12-18 03:55:36,440 : INFO : worker thread finished; awaiting finish of 0 more threads\n",
      "2021-12-18 03:55:36,441 : INFO : EPOCH - 21 : training on 444871 raw words (391122 effective words) took 0.4s, 1066758 effective words/s\n",
      "2021-12-18 03:55:36,788 : INFO : worker thread finished; awaiting finish of 2 more threads\n",
      "2021-12-18 03:55:36,798 : INFO : worker thread finished; awaiting finish of 1 more threads\n",
      "2021-12-18 03:55:36,799 : INFO : worker thread finished; awaiting finish of 0 more threads\n",
      "2021-12-18 03:55:36,799 : INFO : EPOCH - 22 : training on 444871 raw words (391014 effective words) took 0.4s, 1098272 effective words/s\n",
      "2021-12-18 03:55:37,153 : INFO : worker thread finished; awaiting finish of 2 more threads\n",
      "2021-12-18 03:55:37,160 : INFO : worker thread finished; awaiting finish of 1 more threads\n",
      "2021-12-18 03:55:37,161 : INFO : worker thread finished; awaiting finish of 0 more threads\n",
      "2021-12-18 03:55:37,162 : INFO : EPOCH - 23 : training on 444871 raw words (390841 effective words) took 0.4s, 1083436 effective words/s\n",
      "2021-12-18 03:55:37,513 : INFO : worker thread finished; awaiting finish of 2 more threads\n",
      "2021-12-18 03:55:37,523 : INFO : worker thread finished; awaiting finish of 1 more threads\n",
      "2021-12-18 03:55:37,524 : INFO : worker thread finished; awaiting finish of 0 more threads\n",
      "2021-12-18 03:55:37,525 : INFO : EPOCH - 24 : training on 444871 raw words (391219 effective words) took 0.4s, 1083759 effective words/s\n",
      "2021-12-18 03:55:37,859 : INFO : worker thread finished; awaiting finish of 2 more threads\n",
      "2021-12-18 03:55:37,869 : INFO : worker thread finished; awaiting finish of 1 more threads\n",
      "2021-12-18 03:55:37,869 : INFO : worker thread finished; awaiting finish of 0 more threads\n",
      "2021-12-18 03:55:37,870 : INFO : EPOCH - 25 : training on 444871 raw words (391449 effective words) took 0.3s, 1142690 effective words/s\n",
      "2021-12-18 03:55:38,234 : INFO : worker thread finished; awaiting finish of 2 more threads\n",
      "2021-12-18 03:55:38,240 : INFO : worker thread finished; awaiting finish of 1 more threads\n",
      "2021-12-18 03:55:38,243 : INFO : worker thread finished; awaiting finish of 0 more threads\n",
      "2021-12-18 03:55:38,243 : INFO : EPOCH - 26 : training on 444871 raw words (391341 effective words) took 0.4s, 1053787 effective words/s\n",
      "2021-12-18 03:55:38,587 : INFO : worker thread finished; awaiting finish of 2 more threads\n",
      "2021-12-18 03:55:38,596 : INFO : worker thread finished; awaiting finish of 1 more threads\n",
      "2021-12-18 03:55:38,598 : INFO : worker thread finished; awaiting finish of 0 more threads\n",
      "2021-12-18 03:55:38,598 : INFO : EPOCH - 27 : training on 444871 raw words (391098 effective words) took 0.4s, 1108211 effective words/s\n",
      "2021-12-18 03:55:38,946 : INFO : worker thread finished; awaiting finish of 2 more threads\n",
      "2021-12-18 03:55:38,953 : INFO : worker thread finished; awaiting finish of 1 more threads\n",
      "2021-12-18 03:55:38,957 : INFO : worker thread finished; awaiting finish of 0 more threads\n",
      "2021-12-18 03:55:38,957 : INFO : EPOCH - 28 : training on 444871 raw words (391087 effective words) took 0.4s, 1095786 effective words/s\n",
      "2021-12-18 03:55:39,310 : INFO : worker thread finished; awaiting finish of 2 more threads\n",
      "2021-12-18 03:55:39,318 : INFO : worker thread finished; awaiting finish of 1 more threads\n",
      "2021-12-18 03:55:39,322 : INFO : worker thread finished; awaiting finish of 0 more threads\n",
      "2021-12-18 03:55:39,323 : INFO : EPOCH - 29 : training on 444871 raw words (390967 effective words) took 0.4s, 1077439 effective words/s\n",
      "2021-12-18 03:55:39,659 : INFO : worker thread finished; awaiting finish of 2 more threads\n",
      "2021-12-18 03:55:39,665 : INFO : worker thread finished; awaiting finish of 1 more threads\n",
      "2021-12-18 03:55:39,669 : INFO : worker thread finished; awaiting finish of 0 more threads\n",
      "2021-12-18 03:55:39,670 : INFO : EPOCH - 30 : training on 444871 raw words (391079 effective words) took 0.3s, 1133675 effective words/s\n",
      "2021-12-18 03:55:40,026 : INFO : worker thread finished; awaiting finish of 2 more threads\n",
      "2021-12-18 03:55:40,034 : INFO : worker thread finished; awaiting finish of 1 more threads\n",
      "2021-12-18 03:55:40,035 : INFO : worker thread finished; awaiting finish of 0 more threads\n",
      "2021-12-18 03:55:40,036 : INFO : EPOCH - 31 : training on 444871 raw words (391425 effective words) took 0.4s, 1076303 effective words/s\n",
      "2021-12-18 03:55:40,376 : INFO : worker thread finished; awaiting finish of 2 more threads\n",
      "2021-12-18 03:55:40,385 : INFO : worker thread finished; awaiting finish of 1 more threads\n",
      "2021-12-18 03:55:40,385 : INFO : worker thread finished; awaiting finish of 0 more threads\n",
      "2021-12-18 03:55:40,386 : INFO : EPOCH - 32 : training on 444871 raw words (391171 effective words) took 0.3s, 1125616 effective words/s\n",
      "2021-12-18 03:55:40,731 : INFO : worker thread finished; awaiting finish of 2 more threads\n",
      "2021-12-18 03:55:40,738 : INFO : worker thread finished; awaiting finish of 1 more threads\n",
      "2021-12-18 03:55:40,742 : INFO : worker thread finished; awaiting finish of 0 more threads\n",
      "2021-12-18 03:55:40,743 : INFO : EPOCH - 33 : training on 444871 raw words (391202 effective words) took 0.4s, 1104426 effective words/s\n",
      "2021-12-18 03:55:41,098 : INFO : worker thread finished; awaiting finish of 2 more threads\n",
      "2021-12-18 03:55:41,109 : INFO : worker thread finished; awaiting finish of 1 more threads\n",
      "2021-12-18 03:55:41,109 : INFO : worker thread finished; awaiting finish of 0 more threads\n",
      "2021-12-18 03:55:41,110 : INFO : EPOCH - 34 : training on 444871 raw words (391356 effective words) took 0.4s, 1072795 effective words/s\n",
      "2021-12-18 03:55:41,456 : INFO : worker thread finished; awaiting finish of 2 more threads\n",
      "2021-12-18 03:55:41,464 : INFO : worker thread finished; awaiting finish of 1 more threads\n",
      "2021-12-18 03:55:41,465 : INFO : worker thread finished; awaiting finish of 0 more threads\n",
      "2021-12-18 03:55:41,465 : INFO : EPOCH - 35 : training on 444871 raw words (391382 effective words) took 0.4s, 1107779 effective words/s\n",
      "2021-12-18 03:55:41,825 : INFO : worker thread finished; awaiting finish of 2 more threads\n",
      "2021-12-18 03:55:41,833 : INFO : worker thread finished; awaiting finish of 1 more threads\n",
      "2021-12-18 03:55:41,833 : INFO : worker thread finished; awaiting finish of 0 more threads\n",
      "2021-12-18 03:55:41,834 : INFO : EPOCH - 36 : training on 444871 raw words (391172 effective words) took 0.4s, 1067600 effective words/s\n",
      "2021-12-18 03:55:42,171 : INFO : worker thread finished; awaiting finish of 2 more threads\n",
      "2021-12-18 03:55:42,179 : INFO : worker thread finished; awaiting finish of 1 more threads\n",
      "2021-12-18 03:55:42,181 : INFO : worker thread finished; awaiting finish of 0 more threads\n",
      "2021-12-18 03:55:42,182 : INFO : EPOCH - 37 : training on 444871 raw words (390985 effective words) took 0.3s, 1131439 effective words/s\n",
      "2021-12-18 03:55:42,531 : INFO : worker thread finished; awaiting finish of 2 more threads\n",
      "2021-12-18 03:55:42,540 : INFO : worker thread finished; awaiting finish of 1 more threads\n",
      "2021-12-18 03:55:42,541 : INFO : worker thread finished; awaiting finish of 0 more threads\n",
      "2021-12-18 03:55:42,542 : INFO : EPOCH - 38 : training on 444871 raw words (391262 effective words) took 0.4s, 1093129 effective words/s\n",
      "2021-12-18 03:55:42,902 : INFO : worker thread finished; awaiting finish of 2 more threads\n",
      "2021-12-18 03:55:42,910 : INFO : worker thread finished; awaiting finish of 1 more threads\n",
      "2021-12-18 03:55:42,912 : INFO : worker thread finished; awaiting finish of 0 more threads\n",
      "2021-12-18 03:55:42,913 : INFO : EPOCH - 39 : training on 444871 raw words (391066 effective words) took 0.4s, 1060399 effective words/s\n"
     ]
    },
    {
     "name": "stderr",
     "output_type": "stream",
     "text": [
      "2021-12-18 03:55:43,256 : INFO : worker thread finished; awaiting finish of 2 more threads\n",
      "2021-12-18 03:55:43,265 : INFO : worker thread finished; awaiting finish of 1 more threads\n",
      "2021-12-18 03:55:43,268 : INFO : worker thread finished; awaiting finish of 0 more threads\n",
      "2021-12-18 03:55:43,269 : INFO : EPOCH - 40 : training on 444871 raw words (390964 effective words) took 0.4s, 1105511 effective words/s\n",
      "2021-12-18 03:55:43,269 : INFO : Doc2Vec lifecycle event {'msg': 'training on 17794840 raw words (15646060 effective words) took 14.4s, 1086690 effective words/s', 'datetime': '2021-12-18T03:55:43.269944', 'gensim': '4.1.2', 'python': '3.8.10 (default, May 19 2021, 13:12:57) [MSC v.1916 64 bit (AMD64)]', 'platform': 'Windows-10-10.0.19043-SP0', 'event': 'train'}\n"
     ]
    }
   ],
   "source": [
    "model.train(documents, total_examples=model.corpus_count, epochs=model.epochs)"
   ]
  },
  {
   "cell_type": "code",
   "execution_count": 81,
   "metadata": {},
   "outputs": [],
   "source": [
    "vector_review = []\n",
    "for token in df.Review_tokenized.values:\n",
    "    vetor = model.infer_vector(token)\n",
    "    vector_review.append(vetor)"
   ]
  },
  {
   "cell_type": "code",
   "execution_count": 82,
   "metadata": {},
   "outputs": [
    {
     "data": {
      "text/plain": [
       "[array([ 0.26217213,  0.40353435, -0.3825864 , -0.4695278 , -0.30607733,\n",
       "        -0.80584556,  0.6023379 ,  0.23535451, -0.692311  ,  0.15369917,\n",
       "         0.34245485, -1.7525132 ,  0.60655004,  0.22133343, -0.5464463 ,\n",
       "        -0.4664208 ,  0.11013512, -1.3310943 , -1.1833962 ,  0.48417097,\n",
       "        -0.6112145 , -0.9122838 ,  0.5022611 ,  0.19676429,  0.032568  ,\n",
       "         0.411926  , -0.2510721 ,  0.31893662, -0.9497701 , -1.4580301 ],\n",
       "       dtype=float32),\n",
       " array([-0.8994684 ,  0.04109651,  0.47660112, -0.69920427, -1.307472  ,\n",
       "         0.41712016,  0.5346676 , -0.5583933 , -0.6971416 ,  0.01136723,\n",
       "         0.03857318, -0.3065502 , -0.44962746, -0.08866298, -0.04050852,\n",
       "        -0.6041082 ,  0.6319461 , -0.06355345, -0.5505625 ,  0.7432564 ,\n",
       "        -0.22151202, -0.03603111, -0.6100213 ,  0.30377322, -0.29723877,\n",
       "         0.05828317,  1.2082491 , -0.27128255, -0.73438686, -0.536445  ],\n",
       "       dtype=float32),\n",
       " array([ 2.7322984 , -0.31862876,  0.51882803,  0.03610979, -0.43283513,\n",
       "         1.1089212 , -1.2003989 , -1.0019197 , -1.6892688 , -0.66892034,\n",
       "        -0.7720171 ,  0.408511  ,  0.6182533 , -1.8669379 , -1.7407553 ,\n",
       "        -0.6983881 ,  0.0836005 ,  0.66821873, -0.6270393 , -0.59650207,\n",
       "        -1.0522134 ,  1.1106548 ,  0.51103574,  2.1358593 , -0.01740423,\n",
       "        -1.1347928 , -0.46556902,  0.19323348,  0.27225548, -2.7980633 ],\n",
       "       dtype=float32),\n",
       " array([-1.3200092 , -0.71721566,  0.18236528,  1.2641507 ,  0.32277644,\n",
       "         0.4826572 ,  0.3348358 , -0.41052002,  0.6261644 ,  2.5528216 ,\n",
       "        -0.10167085,  0.5431061 ,  1.2002327 , -1.6442299 , -0.28544366,\n",
       "         0.06747484,  0.30100086,  0.35878962, -0.7722886 , -0.84675765,\n",
       "         0.9215215 ,  0.5782647 , -0.16259539,  0.07073528, -1.8359152 ,\n",
       "         0.16152798,  0.55300254, -0.07259266, -0.5464405 , -2.3583307 ],\n",
       "       dtype=float32),\n",
       " array([ 0.13110276,  0.7709213 , -0.06348556,  0.49414065,  0.13446538,\n",
       "         0.5933801 ,  0.7969458 ,  0.18789011,  1.5473083 ,  1.0302869 ,\n",
       "         0.55828774, -1.608081  , -0.12713657, -0.72846544,  0.5364252 ,\n",
       "        -0.49042675, -0.60161376,  0.7999509 , -0.24268651, -0.06584946,\n",
       "        -1.1370747 ,  0.194199  ,  0.31907374, -0.33032274,  0.6053891 ,\n",
       "        -0.60597426,  0.963251  , -0.08124138,  0.78070575, -2.069812  ],\n",
       "       dtype=float32),\n",
       " array([-0.3516527 ,  0.6230911 ,  0.9301028 , -1.6221979 , -0.82509524,\n",
       "         0.7031538 ,  0.07387117, -0.47086507, -0.5616129 , -0.4391975 ,\n",
       "        -0.6626814 ,  0.10173373,  0.2207611 , -0.28495502,  0.33966014,\n",
       "        -0.75435317,  0.9944221 ,  0.44914186,  0.20952865,  0.13714781,\n",
       "         1.0001202 , -0.3596474 ,  0.21658333,  1.0411112 ,  0.52069116,\n",
       "        -0.27456307,  0.716758  ,  0.267168  ,  0.09420993, -0.8024216 ],\n",
       "       dtype=float32),\n",
       " array([-1.2844752 ,  1.1591481 , -1.3750596 , -0.2073831 , -0.6509483 ,\n",
       "        -0.20610583,  0.06120962, -0.434612  , -1.883553  ,  0.60209703,\n",
       "         0.34513324,  0.9775162 ,  0.07331333, -1.7322686 , -1.2205042 ,\n",
       "        -0.4498495 , -0.88658965, -0.71622115,  0.11563943,  0.71657866,\n",
       "         0.14065565,  0.62872434,  0.02199218, -1.1830246 ,  0.99704957,\n",
       "        -2.074527  , -0.14468491, -0.13535702,  0.7211041 ,  0.4223721 ],\n",
       "       dtype=float32),\n",
       " array([-3.2761412 ,  1.0060903 ,  0.68718654, -2.1105506 , -2.4746573 ,\n",
       "        -0.7993768 ,  0.5710585 , -2.1516838 , -1.9263374 ,  0.9145986 ,\n",
       "         0.08027282, -0.3452098 , -0.9742472 ,  0.17047568,  0.86303705,\n",
       "         0.8911539 , -0.09626245,  0.9553085 , -0.7325326 ,  0.32333282,\n",
       "        -2.2070258 ,  0.01122781, -0.57882947, -1.7481029 ,  2.5168781 ,\n",
       "        -0.23651962,  1.2541255 , -0.3411517 , -2.8739212 , -0.81581545],\n",
       "       dtype=float32),\n",
       " array([-1.0886133 , -0.12044331,  0.6871864 , -0.32017234, -0.8655353 ,\n",
       "         1.7677803 ,  1.2220979 , -0.6879818 ,  0.5826481 ,  0.36561942,\n",
       "         0.774299  ,  0.4030791 , -0.54980755,  0.21996284, -0.89379764,\n",
       "        -0.6240864 ,  0.209199  , -0.46291056, -1.4849395 ,  2.3143542 ,\n",
       "         0.05011486,  1.3363941 ,  1.4342544 , -1.2734562 , -0.18056639,\n",
       "         1.6775979 , -0.23050888,  0.57499754, -0.13778417, -1.7032773 ],\n",
       "       dtype=float32),\n",
       " array([ 1.05134   , -0.620431  , -0.40119398, -0.56433296, -0.48600182,\n",
       "         1.4696416 , -0.4821238 ,  0.5068579 ,  0.68478775, -1.8667637 ,\n",
       "         1.0243549 , -0.5953551 , -1.1743289 , -1.0768367 , -1.3698419 ,\n",
       "        -0.81290084, -0.17856711,  1.1434581 , -0.3717896 , -0.29417494,\n",
       "        -0.4679793 ,  0.32550764, -0.9269372 , -0.9632194 ,  0.1053462 ,\n",
       "        -0.18454051,  0.20173644,  0.7472009 , -0.7200552 , -2.3381631 ],\n",
       "       dtype=float32)]"
      ]
     },
     "execution_count": 82,
     "metadata": {},
     "output_type": "execute_result"
    }
   ],
   "source": [
    "vector_review[0:10]"
   ]
  },
  {
   "cell_type": "markdown",
   "metadata": {
    "id": "s5qq2RQlQJbV"
   },
   "source": [
    "**Step 2 - document clustering using KMeans**"
   ]
  },
  {
   "cell_type": "code",
   "execution_count": 83,
   "metadata": {
    "colab": {
     "base_uri": "https://localhost:8080/",
     "height": 312
    },
    "executionInfo": {
     "elapsed": 1056,
     "status": "ok",
     "timestamp": 1636856132141,
     "user": {
      "displayName": "Thanachart Ritbumroong",
      "photoUrl": "https://lh3.googleusercontent.com/a/default-user=s64",
      "userId": "18414212507793256437"
     },
     "user_tz": -420
    },
    "id": "2IkMb1UIF3k5",
    "outputId": "3b7604c6-a1e2-456b-855e-be0a6b7a53c1"
   },
   "outputs": [
    {
     "name": "stderr",
     "output_type": "stream",
     "text": [
      "C:\\Users\\Cromagnon-PC\\anaconda3\\envs\\tf2.4gpu\\lib\\site-packages\\sklearn\\cluster\\_kmeans.py:1038: UserWarning:\n",
      "\n",
      "KMeans is known to have a memory leak on Windows with MKL, when there are less chunks than available threads. You can avoid it by setting the environment variable OMP_NUM_THREADS=2.\n",
      "\n"
     ]
    },
    {
     "data": {
      "text/plain": [
       "Text(0, 0.5, 'WCSS')"
      ]
     },
     "execution_count": 83,
     "metadata": {},
     "output_type": "execute_result"
    },
    {
     "data": {
      "image/png": "[encoded data removed]",
      "text/plain": [
       "<Figure size 432x288 with 1 Axes>"
      ]
     },
     "metadata": {
      "needs_background": "light"
     },
     "output_type": "display_data"
    }
   ],
   "source": [
    "#run kmeans with various number of k. evaluate no. of k based on the elbow plot\n",
    "\n",
    "wcss=[]\n",
    "max_k = 10\n",
    "for i in range(1, max_k):\n",
    "  kmeans = KMeans(i)\n",
    "  kmeans.fit(vector_review)\n",
    "  wcss_iter = kmeans.inertia_\n",
    "  wcss.append(wcss_iter)\n",
    "\n",
    "number_clusters = range(1, max_k)\n",
    "plt.plot(number_clusters,wcss)\n",
    "plt.title('The Elbow title')\n",
    "plt.xlabel('Number of clusters')\n",
    "plt.ylabel('WCSS')"
   ]
  },
  {
   "cell_type": "code",
   "execution_count": 84,
   "metadata": {
    "id": "1o0czkMVdSJ5"
   },
   "outputs": [],
   "source": [
    "#run kmeans with no. of clusters you see fit the most\n",
    "\n",
    "k = 4\n",
    "\n",
    "kmeans = KMeans(n_clusters = k)\n",
    "kmeans.fit(vector_review)\n",
    "\n",
    "df['KMeans ID'] = kmeans.labels_"
   ]
  },
  {
   "cell_type": "code",
   "execution_count": 85,
   "metadata": {},
   "outputs": [
    {
     "data": {
      "text/plain": [
       "3    111\n",
       "2     89\n",
       "0     61\n",
       "1     39\n",
       "Name: KMeans ID, dtype: int64"
      ]
     },
     "execution_count": 85,
     "metadata": {},
     "output_type": "execute_result"
    }
   ],
   "source": [
    "df['KMeans ID'].value_counts()"
   ]
  },
  {
   "cell_type": "code",
   "execution_count": 86,
   "metadata": {},
   "outputs": [],
   "source": [
    "#merge all reviews of each cluster into one big sentence \n",
    "\n",
    "df_kmeans = pd.DataFrame(columns=[\"KMeans ID\", \"texts\"])\n",
    "\n",
    "for i in range(0, k):\n",
    "  row = []\n",
    "  row.append(i)\n",
    "  row.append(df['Review'][df['KMeans ID'] == i].to_string())\n",
    "  df_kmeans.loc[len(df_kmeans)] = row"
   ]
  },
  {
   "cell_type": "code",
   "execution_count": 87,
   "metadata": {},
   "outputs": [],
   "source": [
    "#clean and tokenize sentences. count the occurences of each word\n",
    "df_kmeans['texts'] = df_kmeans['texts'].apply(lambda x: emoji_pattern.sub(r'', x))\n",
    "df_kmeans['texts'] = df_kmeans['texts'].apply(lambda x: specialchar_pattern.sub(r'', x))\n",
    "df_kmeans['texts'] = df_kmeans['texts'].apply(lambda x: number_pattern.sub(r'', x))\n",
    "df_kmeans['texts'] = df_kmeans['texts'].apply(lambda x: space_pattern.sub(r'', x))\n",
    "df_kmeans['texts'] = df_kmeans['texts'].apply(lambda x: dot_pattern.sub(r'', x))\n",
    "df_kmeans['texts'] = df_kmeans['texts'].apply(lambda x: backslash_pattern.sub(r'', x))\n",
    "df_kmeans['texts_tokenized'] = df_kmeans['texts'].apply(lambda x: tokenize_to_list(x))\n",
    "df_kmeans['texts_count'] = df_kmeans['texts_tokenized'].apply(lambda x: collections.Counter(x).most_common())"
   ]
  },
  {
   "cell_type": "code",
   "execution_count": 88,
   "metadata": {},
   "outputs": [
    {
     "data": {
      "text/html": [
       "<div>\n",
       "<style scoped>\n",
       "    .dataframe tbody tr th:only-of-type {\n",
       "        vertical-align: middle;\n",
       "    }\n",
       "\n",
       "    .dataframe tbody tr th {\n",
       "        vertical-align: top;\n",
       "    }\n",
       "\n",
       "    .dataframe thead th {\n",
       "        text-align: right;\n",
       "    }\n",
       "</style>\n",
       "<table border=\"1\" class=\"dataframe\">\n",
       "  <thead>\n",
       "    <tr style=\"text-align: right;\">\n",
       "      <th></th>\n",
       "      <th>KMeans ID</th>\n",
       "      <th>texts</th>\n",
       "      <th>texts_tokenized</th>\n",
       "      <th>texts_count</th>\n",
       "    </tr>\n",
       "  </thead>\n",
       "  <tbody>\n",
       "    <tr>\n",
       "      <th>0</th>\n",
       "      <td>0</td>\n",
       "      <td>สวัสดีเพื่อนๆสมาชิกนักรีวิวร้านอาหารชาวWongnai...</td>\n",
       "      <td>[เพื่อน, สมาชิก, ร้านอาหาร, WongnaiStarbucks, ...</td>\n",
       "      <td>[(ร้านกาแฟ, 12), (กาแฟ, 10), (ร้านอาหาร, 6), (...</td>\n",
       "    </tr>\n",
       "    <tr>\n",
       "      <th>1</th>\n",
       "      <td>1</td>\n",
       "      <td>ร้านส้มตำเจ๊พิมอยู่ถนนเลี่ยงตลาดหนองมนเป็นร้าน...</td>\n",
       "      <td>[ส้มตำ, เจ๊, พิม, ถนน, เลี่ยง, ตลาด, หนอง, มน,...</td>\n",
       "      <td>[(ส้มตำ, 5), (บอ, 4), (ร้านอาหาร, 4), (กิน, 4)...</td>\n",
       "    </tr>\n",
       "    <tr>\n",
       "      <th>2</th>\n",
       "      <td>2</td>\n",
       "      <td>กวงทะเลเผาอาหารทะเลเค้าสดจริงๆเนื้อปูหวานไม่คา...</td>\n",
       "      <td>[กวง, ทะเล, เผา, อาหารทะเล, เค้า, สด, เนื้อ, ป...</td>\n",
       "      <td>[(ทาน, 13), (อร่อย, 10), (กาแฟ, 10), (อาหาร, 8...</td>\n",
       "    </tr>\n",
       "    <tr>\n",
       "      <th>3</th>\n",
       "      <td>3</td>\n",
       "      <td>เป็นคนที่ชอบทานMacchiatoเป็นประจำมีวันนึงเดินเ...</td>\n",
       "      <td>[คน, ชอบ, ทาน, Macchiato, เป็นประจำ, นึง, เดิน...</td>\n",
       "      <td>[(ร้านกาแฟ, 13), (กิน, 11), (ทาน, 10), (ชานมไข...</td>\n",
       "    </tr>\n",
       "  </tbody>\n",
       "</table>\n",
       "</div>"
      ],
      "text/plain": [
       "  KMeans ID                                              texts  \\\n",
       "0         0  สวัสดีเพื่อนๆสมาชิกนักรีวิวร้านอาหารชาวWongnai...   \n",
       "1         1  ร้านส้มตำเจ๊พิมอยู่ถนนเลี่ยงตลาดหนองมนเป็นร้าน...   \n",
       "2         2  กวงทะเลเผาอาหารทะเลเค้าสดจริงๆเนื้อปูหวานไม่คา...   \n",
       "3         3  เป็นคนที่ชอบทานMacchiatoเป็นประจำมีวันนึงเดินเ...   \n",
       "\n",
       "                                     texts_tokenized  \\\n",
       "0  [เพื่อน, สมาชิก, ร้านอาหาร, WongnaiStarbucks, ...   \n",
       "1  [ส้มตำ, เจ๊, พิม, ถนน, เลี่ยง, ตลาด, หนอง, มน,...   \n",
       "2  [กวง, ทะเล, เผา, อาหารทะเล, เค้า, สด, เนื้อ, ป...   \n",
       "3  [คน, ชอบ, ทาน, Macchiato, เป็นประจำ, นึง, เดิน...   \n",
       "\n",
       "                                         texts_count  \n",
       "0  [(ร้านกาแฟ, 12), (กาแฟ, 10), (ร้านอาหาร, 6), (...  \n",
       "1  [(ส้มตำ, 5), (บอ, 4), (ร้านอาหาร, 4), (กิน, 4)...  \n",
       "2  [(ทาน, 13), (อร่อย, 10), (กาแฟ, 10), (อาหาร, 8...  \n",
       "3  [(ร้านกาแฟ, 13), (กิน, 11), (ทาน, 10), (ชานมไข...  "
      ]
     },
     "execution_count": 88,
     "metadata": {},
     "output_type": "execute_result"
    }
   ],
   "source": [
    "df_kmeans"
   ]
  },
  {
   "cell_type": "code",
   "execution_count": 89,
   "metadata": {},
   "outputs": [
    {
     "data": {
      "application/vnd.plotly.v1+json": {
       "config": {
        "plotlyServerURL": "https://plot.ly"
       },
       "data": [
        {
         "hovertemplate": "color=3<br>0=%{x}<br>1=%{y}<extra></extra>",
         "legendgroup": "3",
         "marker": {
          "color": "#636efa",
          "symbol": "circle"
         },
         "mode": "markers",
         "name": "3",
         "orientation": "v",
         "showlegend": true,
         "type": "scatter",
         "x": [
          -0.19967210217048767,
          -0.6468726923149678,
          -0.5157512353126922,
          0.11392844715640182,
          -2.743531622892944,
          -1.7479849505348626,
          -1.4458291767327562,
          -1.404319410127226,
          0.128304328505235,
          -1.1521433711561293,
          -2.575590513037215,
          -0.536258967791599,
          -0.9953362002905609,
          -0.5449872478433206,
          -0.41485992173837016,
          -0.5943365178728595,
          -1.212035335446878,
          -0.1000578801105016,
          -1.5890986082398026,
          -0.7421567667477835,
          -0.9367981702879752,
          -1.4225986374174064,
          -2.763358520854124,
          -1.0581701708240796,
          -0.08241960249657239,
          -1.3792004357740568,
          -0.47319709538828814,
          -2.592023898031852,
          -1.1791278926920943,
          -1.279992207682485,
          -2.9310605187291805,
          -1.0117195669798003,
          -0.8593994650041976,
          -0.349535011849951,
          -2.4412829673910323,
          -3.4771398341473816,
          -1.6148290765095499,
          -1.1319896758695565,
          -1.5864355206447363,
          -1.3721164410957791,
          -1.9800011460140756,
          -3.0500038338086832,
          -3.0431080038283995,
          -0.8094040239154656,
          -1.3504783386433086,
          -0.6380454578760448,
          -2.3752584326351256,
          -3.216525028186375,
          -1.7726486358301705,
          -3.7633778468229333,
          -1.406651617018363,
          -0.45085065725232554,
          -0.40990673589665394,
          -1.7770810998458229,
          -0.7588110562572639,
          -0.5437077698116827,
          -1.7100475901395826,
          -2.0861895422969137,
          0.25911499365296886,
          -1.9099656212926541,
          -1.3057378388950138,
          -1.6371482599835063,
          -0.48858471189668246,
          0.22485447995591176,
          -1.4088884467766123,
          0.12823213191419033,
          -0.5989204608251975,
          -0.9521898292400521,
          -4.19186362999694,
          -2.675961806071429,
          -2.612805294146335,
          -0.24470670572087075,
          -0.7358787371677474,
          -4.531090536679698,
          0.040797507542277435,
          -1.6531710502648385,
          -0.6963508125740253,
          -1.6377625916114846,
          -1.0642663975748476,
          -0.30208649280896543,
          -0.1715196641902608,
          -1.3188433029090092,
          -1.2683404713616986,
          0.35650048746931023,
          -3.4026005728325592,
          -1.0908995945933995,
          -2.1532957531987993,
          -1.9552930443988221,
          -1.3759841083651527,
          -0.2328596748195873,
          -1.708342997710846,
          -1.413724288604786,
          -3.4845405606606534,
          -2.514791147448481,
          -0.7508440824650643,
          -0.9624956607075961,
          0.04271548962370154,
          -2.6615153936382447,
          -2.543062606581306,
          -1.4848661839224704,
          -3.9040627558218044,
          -0.25303415834362425,
          -0.20640203806099527,
          -1.413362219022809,
          -2.9058440755551542,
          -0.674435055164688,
          -2.196363952013654,
          -1.297116776847675,
          -0.7202641383174752,
          -3.509894509658131,
          -2.121364552115998
         ],
         "xaxis": "x",
         "y": [
          1.2788320972967395,
          -0.20217917231867857,
          0.3967947382542873,
          1.6010101749520955,
          -0.6752300086994133,
          0.6369308883696939,
          0.28963966434899013,
          0.4552099644584689,
          0.22392987734273803,
          0.34518723487821024,
          0.5972008846364633,
          3.023882094264832,
          0.07570665670403348,
          0.1563733177732489,
          2.3629690510938484,
          0.7284744074306598,
          -0.3409427159185403,
          0.5438827182825059,
          0.5685399937524326,
          -0.8616235796948708,
          1.0467990076526363,
          -0.6542638340337663,
          0.96643326509182,
          0.2093998964848347,
          0.6257811215018746,
          -0.8746235440589333,
          0.27277498062214683,
          1.403114302367485,
          0.34225224590279046,
          -0.3053774483383814,
          -1.0744021166634037,
          0.10177943010848384,
          0.44478510295960294,
          0.33730255555209027,
          0.7939889178869893,
          2.214847072485489,
          0.8371997944659311,
          0.7150103814158862,
          2.125633074987515,
          -0.021178240953245803,
          0.15478325328389095,
          -0.20948516924803118,
          0.13633620312825703,
          0.5607687617651506,
          0.9717254158555659,
          0.23876399266480428,
          -0.13557662556265745,
          -0.3035152362310735,
          0.18784706586073055,
          1.6122542054888094,
          0.05768010246012654,
          -0.4976267199817332,
          -0.021512310064026735,
          2.408141731455813,
          0.9337868368182347,
          1.3189901483138426,
          0.7385602076792478,
          1.574137209313665,
          0.2751601815728432,
          0.8947254899693593,
          0.9963551213451691,
          2.163437315668581,
          2.2729502071498264,
          0.9928908535419201,
          2.050849212559941,
          0.9161523854813962,
          -0.07115596361037435,
          0.6888682650179306,
          1.0113567257596954,
          3.35558738784639,
          1.0194742536473496,
          0.21488726008423892,
          1.0007925049093327,
          1.1978701786752868,
          0.6648834615964335,
          0.18106376304293972,
          0.9800103046770997,
          1.4894669725897802,
          -0.2798052735170734,
          1.582084253166764,
          -0.07285138846271966,
          0.3961176183265735,
          0.2751850797418805,
          1.6594084755293113,
          1.1913287163216537,
          0.3981183153997898,
          1.536795260570615,
          1.266166966215321,
          0.20573283108709028,
          1.1345376032150967,
          -0.7478780442317203,
          -0.6225442856090403,
          2.4348697558234123,
          -0.32408354083082536,
          0.2598710456598423,
          1.5105639015043155,
          0.11320085588227394,
          2.9053991918257043,
          2.153289895971999,
          1.3369285682553993,
          2.3762360183259057,
          0.348539923780822,
          0.5574622423644876,
          -0.48043759363447247,
          1.4418947830105626,
          0.8091865021033091,
          0.4186158687675577,
          -0.3752685098969426,
          -0.263324834388208,
          0.023080116522587284,
          0.12268492179694576
         ],
         "yaxis": "y"
        },
        {
         "hovertemplate": "color=2<br>0=%{x}<br>1=%{y}<extra></extra>",
         "legendgroup": "2",
         "marker": {
          "color": "#EF553B",
          "symbol": "circle"
         },
         "mode": "markers",
         "name": "2",
         "orientation": "v",
         "showlegend": true,
         "type": "scatter",
         "x": [
          3.8269452194151627,
          1.5418888854984534,
          1.199319886529261,
          0.8095442671041712,
          2.5709720378372305,
          0.5227166883510289,
          1.3373819641251956,
          1.4960869964398043,
          2.4387936358656166,
          1.2842734421586284,
          0.12388076053663866,
          1.1963689536012871,
          2.016919001969275,
          0.7188456617798249,
          0.1803438757718266,
          0.8671663009598152,
          0.15095253231589198,
          1.058738757097051,
          0.7949571251532299,
          0.6089671524479401,
          0.5167449739895721,
          3.950653949410418,
          0.7511607872294359,
          4.384855613452309,
          1.3408567191866283,
          0.26004991020973134,
          1.0481308430822578,
          0.12195614642027754,
          0.8975689686786844,
          1.252267760219845,
          0.5299772328101332,
          0.07057821305714489,
          1.1907771887876173,
          -0.27196802684969273,
          1.7106381243653948,
          3.176335102378938,
          1.7642871093435228,
          0.4729152883818939,
          0.07076235529432685,
          -0.39015424967946755,
          -0.07088389291656455,
          2.56937769743675,
          1.1805237482250583,
          1.8391458462199624,
          2.9985946072390854,
          0.6924593722417743,
          1.5544754656271482,
          2.5164583617156384,
          0.6367925291418791,
          1.1699973432373536,
          1.033012702524905,
          0.60238763362137,
          2.298079169283894,
          2.536444381419424,
          2.0406452585537256,
          0.9931718274548407,
          1.2141440265552743,
          1.4861735963886136,
          2.8606885812945753,
          1.1436659268761402,
          0.02860645112557653,
          0.2563221409251949,
          1.209045985789482,
          1.2614984294203164,
          0.4975801568085787,
          0.3312219609597367,
          -0.3690703106080041,
          -0.0076810357440974765,
          -0.8728150981573185,
          0.5616862506344947,
          0.7498880755903369,
          0.6452003059889618,
          1.660852540554604,
          1.1958901545556,
          1.725462728205966,
          3.429120409834498,
          1.7789352087333574,
          1.8802384148918265,
          1.5516347253378433,
          0.43708876766232485,
          0.8473736935599588,
          1.622897408052529,
          0.21760713539900095,
          1.0744071611554729,
          1.879453973366142,
          2.2196006208519905,
          0.5694448398140711,
          0.33372255666695,
          0.7051639930753041
         ],
         "xaxis": "x",
         "y": [
          0.6554169846173025,
          0.19098083691044462,
          0.23731435874647533,
          -0.5339381522241148,
          1.1575562184241466,
          -0.6253454711048192,
          -1.239488841005339,
          1.8520184004621814,
          -1.3266968337349752,
          2.181576604769487,
          -0.28171183768141594,
          -0.16627682917250008,
          -0.8896052421786727,
          -1.9817786479469341,
          -0.3554250150916758,
          -0.4939787079745472,
          -0.8069257264826506,
          -0.3235861496728557,
          -0.9492939314485184,
          -1.7400921995592713,
          0.6029000196269054,
          0.9708407495149519,
          -1.2638488906511895,
          0.37126098008322805,
          0.3599873653040989,
          0.06066718555213853,
          -0.71174174856215,
          0.32393294326784217,
          0.45641646198384983,
          0.37604976688137526,
          0.06597200139597341,
          0.20020733034282148,
          0.12458689648816329,
          -0.510834952059289,
          -0.9099337403634147,
          -0.2928944712464312,
          0.5305263584011065,
          0.5734129808326067,
          0.33188462142746467,
          -0.2590289029453532,
          -0.3279677636168302,
          -2.3980840459318236,
          -1.3821257881905598,
          -1.4353852726884404,
          0.24637711048478642,
          -0.4220086053454323,
          -0.40105293370198436,
          -1.7512637718861095,
          -0.9453730117529426,
          0.39957183390586914,
          -0.5322687371179373,
          0.30142133137482424,
          -2.9596768771796227,
          0.4377341072957409,
          0.1994251054656459,
          0.08789298865697617,
          -0.13344759547572438,
          -1.8517108311670991,
          -2.2102895668475413,
          -0.915564096069426,
          -0.7700760765430402,
          -1.5745437881008137,
          -1.4773181398235218,
          -1.2783170007593576,
          1.239382236604856,
          -0.9709114721380143,
          -1.3875259549279433,
          -0.008939391906813777,
          -1.239541645388286,
          -0.6408671585534876,
          0.07221603137319269,
          -0.41981503370317785,
          -1.9506806111413386,
          0.013253122334099067,
          -0.6931605585473183,
          -1.0632604839189845,
          -0.8363197382042316,
          -0.15563225839881237,
          0.5972086116057994,
          -0.37683085402822336,
          -0.5362481068631523,
          -0.8138693238235724,
          -0.8033720552320507,
          0.10409225177156198,
          -0.08819560351998204,
          -0.944540577442205,
          -0.24743658346744954,
          -0.23649888185953818,
          -0.7737446864322548
         ],
         "yaxis": "y"
        },
        {
         "hovertemplate": "color=0<br>0=%{x}<br>1=%{y}<extra></extra>",
         "legendgroup": "0",
         "marker": {
          "color": "#00cc96",
          "symbol": "circle"
         },
         "mode": "markers",
         "name": "0",
         "orientation": "v",
         "showlegend": true,
         "type": "scatter",
         "x": [
          0.001089473575516513,
          -4.058156753361319,
          -1.0433179817542433,
          -2.537244068936753,
          -0.5028929940463333,
          -3.063528074294982,
          -1.4753070963890067,
          -0.06604407770243524,
          -2.6785648878348316,
          -1.433000131896622,
          -1.274728392783477,
          1.029544394871221,
          -0.5826218896408939,
          -0.8733135684676964,
          -0.5969169894610161,
          -1.0823789831518653,
          -0.6468816827559518,
          -1.0731458512090903,
          0.40595502107297005,
          -2.052170586679004,
          -0.46396293255717763,
          -0.16251722837327617,
          0.3128759092118616,
          -3.341518195689683,
          -1.1727366679528102,
          -0.1779053329128253,
          0.46821726295085725,
          0.6899943437122341,
          0.029466761400070145,
          -1.7294026671501892,
          0.10502710202947828,
          -0.21010214578524383,
          1.0576363180850203,
          0.12578683550930098,
          -0.8867248786694288,
          -0.9134925343495018,
          -0.624942614972945,
          -1.0944451018067536,
          -0.5737104375901916,
          -0.6424578253147767,
          -0.3979682347669095,
          -1.3166493530879573,
          -1.977394811022489,
          0.7076875731500868,
          -1.1194029281137234,
          0.7396917891220381,
          0.42600927227612545,
          -0.12830844863009447,
          0.2844888341942192,
          0.39664917187084525,
          -1.3490208285275156,
          0.6200592982584612,
          0.4632480571166877,
          2.1464743667829556,
          0.02811944792170367,
          -1.8609492582730869,
          0.5995932108051706,
          0.09903376458398888,
          -0.6351940054580314,
          -0.02557243359404744,
          -0.5155667073938172
         ],
         "xaxis": "x",
         "y": [
          -0.924292764158838,
          -0.29914390413236086,
          -1.276125396203978,
          -1.996688537779966,
          -0.18884554937614512,
          -3.4085604601216595,
          -0.9226998226258238,
          -0.8846349676034325,
          -2.232853274064991,
          -3.192852375446399,
          -1.3819042056944117,
          -1.5881116563026056,
          -0.2641318589892239,
          -1.3440639366726792,
          0.07293735231162492,
          -1.025094654925673,
          -0.573065673714533,
          -1.1841082898598172,
          -0.7441179795260491,
          -1.8394731221934626,
          -0.9976588457989404,
          -1.0084214092050916,
          -1.5746457821173174,
          -2.062097339443654,
          -2.082103529274245,
          -0.8216188782107376,
          -1.695912548206674,
          -1.3665081887714265,
          -2.6466319642331393,
          -1.508287019424998,
          -1.417353275247617,
          -2.5668748165187365,
          -2.846738200304529,
          -2.4293890632661728,
          -0.4467787036441408,
          -1.531979461195814,
          -1.6653335085603813,
          -3.194388046135997,
          -3.27606990662831,
          0.011857718398705759,
          -1.8290488737414832,
          -1.089005099954509,
          -3.601826224150383,
          -1.2587067945047596,
          -1.8843033756359848,
          -1.3197758175828325,
          -0.4558030986851252,
          -1.4856690726897048,
          -2.6409231021121937,
          -0.49445565602877517,
          -1.9722109228501465,
          -0.6767921146247442,
          -2.037390091359784,
          -2.657144099818285,
          -2.2048021582344766,
          -0.6500595232319402,
          -1.156623842101043,
          -0.6963352655846692,
          -2.1766598816621476,
          -1.839970822062032,
          -2.3162203938640573
         ],
         "yaxis": "y"
        },
        {
         "hovertemplate": "color=1<br>0=%{x}<br>1=%{y}<extra></extra>",
         "legendgroup": "1",
         "marker": {
          "color": "#ab63fa",
          "symbol": "circle"
         },
         "mode": "markers",
         "name": "1",
         "orientation": "v",
         "showlegend": true,
         "type": "scatter",
         "x": [
          2.8131911109383245,
          4.1454532401470345,
          2.864631836340028,
          2.9498064038687164,
          3.41956364620167,
          0.7670082865515073,
          2.614947914261471,
          0.5456922919019074,
          2.031682469221266,
          0.9533955264142686,
          2.9649727994314223,
          1.2611429130955998,
          3.2964051523997133,
          2.4210207054313377,
          1.5501388941389123,
          0.9972753078918452,
          2.0070580366511903,
          2.657619367925537,
          2.9581025939535706,
          1.0343658016937567,
          3.3818005283468358,
          1.5029079383791188,
          2.9301843578426574,
          0.6943440938031695,
          1.2564035843751904,
          2.3672807211193128,
          1.7843157115899766,
          -0.4327889171023572,
          4.618584095690829,
          1.8831660777269679,
          2.617542049965576,
          3.246673438012097,
          3.045469179750008,
          2.165864707688528,
          0.42477262122732756,
          0.4470409714187815,
          4.847911189571859,
          2.112863282254835,
          3.4607212055674177
         ],
         "xaxis": "x",
         "y": [
          1.6450448686637225,
          0.22428796080345983,
          0.21641093386482035,
          0.8881551038982578,
          1.336967903363197,
          3.0386221243766953,
          1.4169146092286629,
          1.1129379980666927,
          0.4496141822135586,
          2.2101194901312144,
          0.6329999276034126,
          0.7679925869022772,
          -1.6950035705569695,
          1.456834227921493,
          0.7297808998358603,
          0.774969754065015,
          0.5842472964833445,
          0.5940167252918285,
          3.394403992867316,
          2.948821100832964,
          1.2732155171155917,
          2.0463023775084186,
          0.9553957428119745,
          3.3256454817717698,
          1.0419660626729355,
          1.4538157382577497,
          3.799862237190442,
          1.4431266901221458,
          -1.3093762592183318,
          1.4059278574037763,
          1.212568676615429,
          3.683302509119998,
          2.4686955219088444,
          1.0817969876228186,
          1.4851546145851011,
          2.5033950826843854,
          0.8235229305236197,
          0.789676472978031,
          3.825930646942867
         ],
         "yaxis": "y"
        }
       ],
       "layout": {
        "legend": {
         "title": {
          "text": "color"
         },
         "tracegroupgap": 0
        },
        "margin": {
         "t": 60
        },
        "template": {
         "data": {
          "bar": [
           {
            "error_x": {
             "color": "#2a3f5f"
            },
            "error_y": {
             "color": "#2a3f5f"
            },
            "marker": {
             "line": {
              "color": "#E5ECF6",
              "width": 0.5
             },
             "pattern": {
              "fillmode": "overlay",
              "size": 10,
              "solidity": 0.2
             }
            },
            "type": "bar"
           }
          ],
          "barpolar": [
           {
            "marker": {
             "line": {
              "color": "#E5ECF6",
              "width": 0.5
             },
             "pattern": {
              "fillmode": "overlay",
              "size": 10,
              "solidity": 0.2
             }
            },
            "type": "barpolar"
           }
          ],
          "carpet": [
           {
            "aaxis": {
             "endlinecolor": "#2a3f5f",
             "gridcolor": "white",
             "linecolor": "white",
             "minorgridcolor": "white",
             "startlinecolor": "#2a3f5f"
            },
            "baxis": {
             "endlinecolor": "#2a3f5f",
             "gridcolor": "white",
             "linecolor": "white",
             "minorgridcolor": "white",
             "startlinecolor": "#2a3f5f"
            },
            "type": "carpet"
           }
          ],
          "choropleth": [
           {
            "colorbar": {
             "outlinewidth": 0,
             "ticks": ""
            },
            "type": "choropleth"
           }
          ],
          "contour": [
           {
            "colorbar": {
             "outlinewidth": 0,
             "ticks": ""
            },
            "colorscale": [
             [
              0,
              "#0d0887"
             ],
             [
              0.1111111111111111,
              "#46039f"
             ],
             [
              0.2222222222222222,
              "#7201a8"
             ],
             [
              0.3333333333333333,
              "#9c179e"
             ],
             [
              0.4444444444444444,
              "#bd3786"
             ],
             [
              0.5555555555555556,
              "#d8576b"
             ],
             [
              0.6666666666666666,
              "#ed7953"
             ],
             [
              0.7777777777777778,
              "#fb9f3a"
             ],
             [
              0.8888888888888888,
              "#fdca26"
             ],
             [
              1,
              "#f0f921"
             ]
            ],
            "type": "contour"
           }
          ],
          "contourcarpet": [
           {
            "colorbar": {
             "outlinewidth": 0,
             "ticks": ""
            },
            "type": "contourcarpet"
           }
          ],
          "heatmap": [
           {
            "colorbar": {
             "outlinewidth": 0,
             "ticks": ""
            },
            "colorscale": [
             [
              0,
              "#0d0887"
             ],
             [
              0.1111111111111111,
              "#46039f"
             ],
             [
              0.2222222222222222,
              "#7201a8"
             ],
             [
              0.3333333333333333,
              "#9c179e"
             ],
             [
              0.4444444444444444,
              "#bd3786"
             ],
             [
              0.5555555555555556,
              "#d8576b"
             ],
             [
              0.6666666666666666,
              "#ed7953"
             ],
             [
              0.7777777777777778,
              "#fb9f3a"
             ],
             [
              0.8888888888888888,
              "#fdca26"
             ],
             [
              1,
              "#f0f921"
             ]
            ],
            "type": "heatmap"
           }
          ],
          "heatmapgl": [
           {
            "colorbar": {
             "outlinewidth": 0,
             "ticks": ""
            },
            "colorscale": [
             [
              0,
              "#0d0887"
             ],
             [
              0.1111111111111111,
              "#46039f"
             ],
             [
              0.2222222222222222,
              "#7201a8"
             ],
             [
              0.3333333333333333,
              "#9c179e"
             ],
             [
              0.4444444444444444,
              "#bd3786"
             ],
             [
              0.5555555555555556,
              "#d8576b"
             ],
             [
              0.6666666666666666,
              "#ed7953"
             ],
             [
              0.7777777777777778,
              "#fb9f3a"
             ],
             [
              0.8888888888888888,
              "#fdca26"
             ],
             [
              1,
              "#f0f921"
             ]
            ],
            "type": "heatmapgl"
           }
          ],
          "histogram": [
           {
            "marker": {
             "pattern": {
              "fillmode": "overlay",
              "size": 10,
              "solidity": 0.2
             }
            },
            "type": "histogram"
           }
          ],
          "histogram2d": [
           {
            "colorbar": {
             "outlinewidth": 0,
             "ticks": ""
            },
            "colorscale": [
             [
              0,
              "#0d0887"
             ],
             [
              0.1111111111111111,
              "#46039f"
             ],
             [
              0.2222222222222222,
              "#7201a8"
             ],
             [
              0.3333333333333333,
              "#9c179e"
             ],
             [
              0.4444444444444444,
              "#bd3786"
             ],
             [
              0.5555555555555556,
              "#d8576b"
             ],
             [
              0.6666666666666666,
              "#ed7953"
             ],
             [
              0.7777777777777778,
              "#fb9f3a"
             ],
             [
              0.8888888888888888,
              "#fdca26"
             ],
             [
              1,
              "#f0f921"
             ]
            ],
            "type": "histogram2d"
           }
          ],
          "histogram2dcontour": [
           {
            "colorbar": {
             "outlinewidth": 0,
             "ticks": ""
            },
            "colorscale": [
             [
              0,
              "#0d0887"
             ],
             [
              0.1111111111111111,
              "#46039f"
             ],
             [
              0.2222222222222222,
              "#7201a8"
             ],
             [
              0.3333333333333333,
              "#9c179e"
             ],
             [
              0.4444444444444444,
              "#bd3786"
             ],
             [
              0.5555555555555556,
              "#d8576b"
             ],
             [
              0.6666666666666666,
              "#ed7953"
             ],
             [
              0.7777777777777778,
              "#fb9f3a"
             ],
             [
              0.8888888888888888,
              "#fdca26"
             ],
             [
              1,
              "#f0f921"
             ]
            ],
            "type": "histogram2dcontour"
           }
          ],
          "mesh3d": [
           {
            "colorbar": {
             "outlinewidth": 0,
             "ticks": ""
            },
            "type": "mesh3d"
           }
          ],
          "parcoords": [
           {
            "line": {
             "colorbar": {
              "outlinewidth": 0,
              "ticks": ""
             }
            },
            "type": "parcoords"
           }
          ],
          "pie": [
           {
            "automargin": true,
            "type": "pie"
           }
          ],
          "scatter": [
           {
            "marker": {
             "colorbar": {
              "outlinewidth": 0,
              "ticks": ""
             }
            },
            "type": "scatter"
           }
          ],
          "scatter3d": [
           {
            "line": {
             "colorbar": {
              "outlinewidth": 0,
              "ticks": ""
             }
            },
            "marker": {
             "colorbar": {
              "outlinewidth": 0,
              "ticks": ""
             }
            },
            "type": "scatter3d"
           }
          ],
          "scattercarpet": [
           {
            "marker": {
             "colorbar": {
              "outlinewidth": 0,
              "ticks": ""
             }
            },
            "type": "scattercarpet"
           }
          ],
          "scattergeo": [
           {
            "marker": {
             "colorbar": {
              "outlinewidth": 0,
              "ticks": ""
             }
            },
            "type": "scattergeo"
           }
          ],
          "scattergl": [
           {
            "marker": {
             "colorbar": {
              "outlinewidth": 0,
              "ticks": ""
             }
            },
            "type": "scattergl"
           }
          ],
          "scattermapbox": [
           {
            "marker": {
             "colorbar": {
              "outlinewidth": 0,
              "ticks": ""
             }
            },
            "type": "scattermapbox"
           }
          ],
          "scatterpolar": [
           {
            "marker": {
             "colorbar": {
              "outlinewidth": 0,
              "ticks": ""
             }
            },
            "type": "scatterpolar"
           }
          ],
          "scatterpolargl": [
           {
            "marker": {
             "colorbar": {
              "outlinewidth": 0,
              "ticks": ""
             }
            },
            "type": "scatterpolargl"
           }
          ],
          "scatterternary": [
           {
            "marker": {
             "colorbar": {
              "outlinewidth": 0,
              "ticks": ""
             }
            },
            "type": "scatterternary"
           }
          ],
          "surface": [
           {
            "colorbar": {
             "outlinewidth": 0,
             "ticks": ""
            },
            "colorscale": [
             [
              0,
              "#0d0887"
             ],
             [
              0.1111111111111111,
              "#46039f"
             ],
             [
              0.2222222222222222,
              "#7201a8"
             ],
             [
              0.3333333333333333,
              "#9c179e"
             ],
             [
              0.4444444444444444,
              "#bd3786"
             ],
             [
              0.5555555555555556,
              "#d8576b"
             ],
             [
              0.6666666666666666,
              "#ed7953"
             ],
             [
              0.7777777777777778,
              "#fb9f3a"
             ],
             [
              0.8888888888888888,
              "#fdca26"
             ],
             [
              1,
              "#f0f921"
             ]
            ],
            "type": "surface"
           }
          ],
          "table": [
           {
            "cells": {
             "fill": {
              "color": "#EBF0F8"
             },
             "line": {
              "color": "white"
             }
            },
            "header": {
             "fill": {
              "color": "#C8D4E3"
             },
             "line": {
              "color": "white"
             }
            },
            "type": "table"
           }
          ]
         },
         "layout": {
          "annotationdefaults": {
           "arrowcolor": "#2a3f5f",
           "arrowhead": 0,
           "arrowwidth": 1
          },
          "autotypenumbers": "strict",
          "coloraxis": {
           "colorbar": {
            "outlinewidth": 0,
            "ticks": ""
           }
          },
          "colorscale": {
           "diverging": [
            [
             0,
             "#8e0152"
            ],
            [
             0.1,
             "#c51b7d"
            ],
            [
             0.2,
             "#de77ae"
            ],
            [
             0.3,
             "#f1b6da"
            ],
            [
             0.4,
             "#fde0ef"
            ],
            [
             0.5,
             "#f7f7f7"
            ],
            [
             0.6,
             "#e6f5d0"
            ],
            [
             0.7,
             "#b8e186"
            ],
            [
             0.8,
             "#7fbc41"
            ],
            [
             0.9,
             "#4d9221"
            ],
            [
             1,
             "#276419"
            ]
           ],
           "sequential": [
            [
             0,
             "#0d0887"
            ],
            [
             0.1111111111111111,
             "#46039f"
            ],
            [
             0.2222222222222222,
             "#7201a8"
            ],
            [
             0.3333333333333333,
             "#9c179e"
            ],
            [
             0.4444444444444444,
             "#bd3786"
            ],
            [
             0.5555555555555556,
             "#d8576b"
            ],
            [
             0.6666666666666666,
             "#ed7953"
            ],
            [
             0.7777777777777778,
             "#fb9f3a"
            ],
            [
             0.8888888888888888,
             "#fdca26"
            ],
            [
             1,
             "#f0f921"
            ]
           ],
           "sequentialminus": [
            [
             0,
             "#0d0887"
            ],
            [
             0.1111111111111111,
             "#46039f"
            ],
            [
             0.2222222222222222,
             "#7201a8"
            ],
            [
             0.3333333333333333,
             "#9c179e"
            ],
            [
             0.4444444444444444,
             "#bd3786"
            ],
            [
             0.5555555555555556,
             "#d8576b"
            ],
            [
             0.6666666666666666,
             "#ed7953"
            ],
            [
             0.7777777777777778,
             "#fb9f3a"
            ],
            [
             0.8888888888888888,
             "#fdca26"
            ],
            [
             1,
             "#f0f921"
            ]
           ]
          },
          "colorway": [
           "#636efa",
           "#EF553B",
           "#00cc96",
           "#ab63fa",
           "#FFA15A",
           "#19d3f3",
           "#FF6692",
           "#B6E880",
           "#FF97FF",
           "#FECB52"
          ],
          "font": {
           "color": "#2a3f5f"
          },
          "geo": {
           "bgcolor": "white",
           "lakecolor": "white",
           "landcolor": "#E5ECF6",
           "showlakes": true,
           "showland": true,
           "subunitcolor": "white"
          },
          "hoverlabel": {
           "align": "left"
          },
          "hovermode": "closest",
          "mapbox": {
           "style": "light"
          },
          "paper_bgcolor": "white",
          "plot_bgcolor": "#E5ECF6",
          "polar": {
           "angularaxis": {
            "gridcolor": "white",
            "linecolor": "white",
            "ticks": ""
           },
           "bgcolor": "#E5ECF6",
           "radialaxis": {
            "gridcolor": "white",
            "linecolor": "white",
            "ticks": ""
           }
          },
          "scene": {
           "xaxis": {
            "backgroundcolor": "#E5ECF6",
            "gridcolor": "white",
            "gridwidth": 2,
            "linecolor": "white",
            "showbackground": true,
            "ticks": "",
            "zerolinecolor": "white"
           },
           "yaxis": {
            "backgroundcolor": "#E5ECF6",
            "gridcolor": "white",
            "gridwidth": 2,
            "linecolor": "white",
            "showbackground": true,
            "ticks": "",
            "zerolinecolor": "white"
           },
           "zaxis": {
            "backgroundcolor": "#E5ECF6",
            "gridcolor": "white",
            "gridwidth": 2,
            "linecolor": "white",
            "showbackground": true,
            "ticks": "",
            "zerolinecolor": "white"
           }
          },
          "shapedefaults": {
           "line": {
            "color": "#2a3f5f"
           }
          },
          "ternary": {
           "aaxis": {
            "gridcolor": "white",
            "linecolor": "white",
            "ticks": ""
           },
           "baxis": {
            "gridcolor": "white",
            "linecolor": "white",
            "ticks": ""
           },
           "bgcolor": "#E5ECF6",
           "caxis": {
            "gridcolor": "white",
            "linecolor": "white",
            "ticks": ""
           }
          },
          "title": {
           "x": 0.05
          },
          "xaxis": {
           "automargin": true,
           "gridcolor": "white",
           "linecolor": "white",
           "ticks": "",
           "title": {
            "standoff": 15
           },
           "zerolinecolor": "white",
           "zerolinewidth": 2
          },
          "yaxis": {
           "automargin": true,
           "gridcolor": "white",
           "linecolor": "white",
           "ticks": "",
           "title": {
            "standoff": 15
           },
           "zerolinecolor": "white",
           "zerolinewidth": 2
          }
         }
        },
        "xaxis": {
         "anchor": "y",
         "domain": [
          0,
          1
         ],
         "title": {
          "text": "0"
         }
        },
        "yaxis": {
         "anchor": "x",
         "domain": [
          0,
          1
         ],
         "title": {
          "text": "1"
         }
        }
       }
      },
      "text/html": [
       "<div>                            <div id=\"3dc43f9f-4193-4b29-9a6d-cf49da8f45b6\" class=\"plotly-graph-div\" style=\"height:525px; width:100%;\"></div>            <script type=\"text/javascript\">                require([\"plotly\"], function(Plotly) {                    window.PLOTLYENV=window.PLOTLYENV || {};                                    if (document.getElementById(\"3dc43f9f-4193-4b29-9a6d-cf49da8f45b6\")) {                    Plotly.newPlot(                        \"3dc43f9f-4193-4b29-9a6d-cf49da8f45b6\",                        [{\"hovertemplate\":\"color=3<br>0=%{x}<br>1=%{y}<extra></extra>\",\"legendgroup\":\"3\",\"marker\":{\"color\":\"#636efa\",\"symbol\":\"circle\"},\"mode\":\"markers\",\"name\":\"3\",\"orientation\":\"v\",\"showlegend\":true,\"x\":[-0.19967210217048767,-0.6468726923149678,-0.5157512353126922,0.11392844715640182,-2.743531622892944,-1.7479849505348626,-1.4458291767327562,-1.404319410127226,0.128304328505235,-1.1521433711561293,-2.575590513037215,-0.536258967791599,-0.9953362002905609,-0.5449872478433206,-0.41485992173837016,-0.5943365178728595,-1.212035335446878,-0.1000578801105016,-1.5890986082398026,-0.7421567667477835,-0.9367981702879752,-1.4225986374174064,-2.763358520854124,-1.0581701708240796,-0.08241960249657239,-1.3792004357740568,-0.47319709538828814,-2.592023898031852,-1.1791278926920943,-1.279992207682485,-2.9310605187291805,-1.0117195669798003,-0.8593994650041976,-0.349535011849951,-2.4412829673910323,-3.4771398341473816,-1.6148290765095499,-1.1319896758695565,-1.5864355206447363,-1.3721164410957791,-1.9800011460140756,-3.0500038338086832,-3.0431080038283995,-0.8094040239154656,-1.3504783386433086,-0.6380454578760448,-2.3752584326351256,-3.216525028186375,-1.7726486358301705,-3.7633778468229333,-1.406651617018363,-0.45085065725232554,-0.40990673589665394,-1.7770810998458229,-0.7588110562572639,-0.5437077698116827,-1.7100475901395826,-2.0861895422969137,0.25911499365296886,-1.9099656212926541,-1.3057378388950138,-1.6371482599835063,-0.48858471189668246,0.22485447995591176,-1.4088884467766123,0.12823213191419033,-0.5989204608251975,-0.9521898292400521,-4.19186362999694,-2.675961806071429,-2.612805294146335,-0.24470670572087075,-0.7358787371677474,-4.531090536679698,0.040797507542277435,-1.6531710502648385,-0.6963508125740253,-1.6377625916114846,-1.0642663975748476,-0.30208649280896543,-0.1715196641902608,-1.3188433029090092,-1.2683404713616986,0.35650048746931023,-3.4026005728325592,-1.0908995945933995,-2.1532957531987993,-1.9552930443988221,-1.3759841083651527,-0.2328596748195873,-1.708342997710846,-1.413724288604786,-3.4845405606606534,-2.514791147448481,-0.7508440824650643,-0.9624956607075961,0.04271548962370154,-2.6615153936382447,-2.543062606581306,-1.4848661839224704,-3.9040627558218044,-0.25303415834362425,-0.20640203806099527,-1.413362219022809,-2.9058440755551542,-0.674435055164688,-2.196363952013654,-1.297116776847675,-0.7202641383174752,-3.509894509658131,-2.121364552115998],\"xaxis\":\"x\",\"y\":[1.2788320972967395,-0.20217917231867857,0.3967947382542873,1.6010101749520955,-0.6752300086994133,0.6369308883696939,0.28963966434899013,0.4552099644584689,0.22392987734273803,0.34518723487821024,0.5972008846364633,3.023882094264832,0.07570665670403348,0.1563733177732489,2.3629690510938484,0.7284744074306598,-0.3409427159185403,0.5438827182825059,0.5685399937524326,-0.8616235796948708,1.0467990076526363,-0.6542638340337663,0.96643326509182,0.2093998964848347,0.6257811215018746,-0.8746235440589333,0.27277498062214683,1.403114302367485,0.34225224590279046,-0.3053774483383814,-1.0744021166634037,0.10177943010848384,0.44478510295960294,0.33730255555209027,0.7939889178869893,2.214847072485489,0.8371997944659311,0.7150103814158862,2.125633074987515,-0.021178240953245803,0.15478325328389095,-0.20948516924803118,0.13633620312825703,0.5607687617651506,0.9717254158555659,0.23876399266480428,-0.13557662556265745,-0.3035152362310735,0.18784706586073055,1.6122542054888094,0.05768010246012654,-0.4976267199817332,-0.021512310064026735,2.408141731455813,0.9337868368182347,1.3189901483138426,0.7385602076792478,1.574137209313665,0.2751601815728432,0.8947254899693593,0.9963551213451691,2.163437315668581,2.2729502071498264,0.9928908535419201,2.050849212559941,0.9161523854813962,-0.07115596361037435,0.6888682650179306,1.0113567257596954,3.35558738784639,1.0194742536473496,0.21488726008423892,1.0007925049093327,1.1978701786752868,0.6648834615964335,0.18106376304293972,0.9800103046770997,1.4894669725897802,-0.2798052735170734,1.582084253166764,-0.07285138846271966,0.3961176183265735,0.2751850797418805,1.6594084755293113,1.1913287163216537,0.3981183153997898,1.536795260570615,1.266166966215321,0.20573283108709028,1.1345376032150967,-0.7478780442317203,-0.6225442856090403,2.4348697558234123,-0.32408354083082536,0.2598710456598423,1.5105639015043155,0.11320085588227394,2.9053991918257043,2.153289895971999,1.3369285682553993,2.3762360183259057,0.348539923780822,0.5574622423644876,-0.48043759363447247,1.4418947830105626,0.8091865021033091,0.4186158687675577,-0.3752685098969426,-0.263324834388208,0.023080116522587284,0.12268492179694576],\"yaxis\":\"y\",\"type\":\"scatter\"},{\"hovertemplate\":\"color=2<br>0=%{x}<br>1=%{y}<extra></extra>\",\"legendgroup\":\"2\",\"marker\":{\"color\":\"#EF553B\",\"symbol\":\"circle\"},\"mode\":\"markers\",\"name\":\"2\",\"orientation\":\"v\",\"showlegend\":true,\"x\":[3.8269452194151627,1.5418888854984534,1.199319886529261,0.8095442671041712,2.5709720378372305,0.5227166883510289,1.3373819641251956,1.4960869964398043,2.4387936358656166,1.2842734421586284,0.12388076053663866,1.1963689536012871,2.016919001969275,0.7188456617798249,0.1803438757718266,0.8671663009598152,0.15095253231589198,1.058738757097051,0.7949571251532299,0.6089671524479401,0.5167449739895721,3.950653949410418,0.7511607872294359,4.384855613452309,1.3408567191866283,0.26004991020973134,1.0481308430822578,0.12195614642027754,0.8975689686786844,1.252267760219845,0.5299772328101332,0.07057821305714489,1.1907771887876173,-0.27196802684969273,1.7106381243653948,3.176335102378938,1.7642871093435228,0.4729152883818939,0.07076235529432685,-0.39015424967946755,-0.07088389291656455,2.56937769743675,1.1805237482250583,1.8391458462199624,2.9985946072390854,0.6924593722417743,1.5544754656271482,2.5164583617156384,0.6367925291418791,1.1699973432373536,1.033012702524905,0.60238763362137,2.298079169283894,2.536444381419424,2.0406452585537256,0.9931718274548407,1.2141440265552743,1.4861735963886136,2.8606885812945753,1.1436659268761402,0.02860645112557653,0.2563221409251949,1.209045985789482,1.2614984294203164,0.4975801568085787,0.3312219609597367,-0.3690703106080041,-0.0076810357440974765,-0.8728150981573185,0.5616862506344947,0.7498880755903369,0.6452003059889618,1.660852540554604,1.1958901545556,1.725462728205966,3.429120409834498,1.7789352087333574,1.8802384148918265,1.5516347253378433,0.43708876766232485,0.8473736935599588,1.622897408052529,0.21760713539900095,1.0744071611554729,1.879453973366142,2.2196006208519905,0.5694448398140711,0.33372255666695,0.7051639930753041],\"xaxis\":\"x\",\"y\":[0.6554169846173025,0.19098083691044462,0.23731435874647533,-0.5339381522241148,1.1575562184241466,-0.6253454711048192,-1.239488841005339,1.8520184004621814,-1.3266968337349752,2.181576604769487,-0.28171183768141594,-0.16627682917250008,-0.8896052421786727,-1.9817786479469341,-0.3554250150916758,-0.4939787079745472,-0.8069257264826506,-0.3235861496728557,-0.9492939314485184,-1.7400921995592713,0.6029000196269054,0.9708407495149519,-1.2638488906511895,0.37126098008322805,0.3599873653040989,0.06066718555213853,-0.71174174856215,0.32393294326784217,0.45641646198384983,0.37604976688137526,0.06597200139597341,0.20020733034282148,0.12458689648816329,-0.510834952059289,-0.9099337403634147,-0.2928944712464312,0.5305263584011065,0.5734129808326067,0.33188462142746467,-0.2590289029453532,-0.3279677636168302,-2.3980840459318236,-1.3821257881905598,-1.4353852726884404,0.24637711048478642,-0.4220086053454323,-0.40105293370198436,-1.7512637718861095,-0.9453730117529426,0.39957183390586914,-0.5322687371179373,0.30142133137482424,-2.9596768771796227,0.4377341072957409,0.1994251054656459,0.08789298865697617,-0.13344759547572438,-1.8517108311670991,-2.2102895668475413,-0.915564096069426,-0.7700760765430402,-1.5745437881008137,-1.4773181398235218,-1.2783170007593576,1.239382236604856,-0.9709114721380143,-1.3875259549279433,-0.008939391906813777,-1.239541645388286,-0.6408671585534876,0.07221603137319269,-0.41981503370317785,-1.9506806111413386,0.013253122334099067,-0.6931605585473183,-1.0632604839189845,-0.8363197382042316,-0.15563225839881237,0.5972086116057994,-0.37683085402822336,-0.5362481068631523,-0.8138693238235724,-0.8033720552320507,0.10409225177156198,-0.08819560351998204,-0.944540577442205,-0.24743658346744954,-0.23649888185953818,-0.7737446864322548],\"yaxis\":\"y\",\"type\":\"scatter\"},{\"hovertemplate\":\"color=0<br>0=%{x}<br>1=%{y}<extra></extra>\",\"legendgroup\":\"0\",\"marker\":{\"color\":\"#00cc96\",\"symbol\":\"circle\"},\"mode\":\"markers\",\"name\":\"0\",\"orientation\":\"v\",\"showlegend\":true,\"x\":[0.001089473575516513,-4.058156753361319,-1.0433179817542433,-2.537244068936753,-0.5028929940463333,-3.063528074294982,-1.4753070963890067,-0.06604407770243524,-2.6785648878348316,-1.433000131896622,-1.274728392783477,1.029544394871221,-0.5826218896408939,-0.8733135684676964,-0.5969169894610161,-1.0823789831518653,-0.6468816827559518,-1.0731458512090903,0.40595502107297005,-2.052170586679004,-0.46396293255717763,-0.16251722837327617,0.3128759092118616,-3.341518195689683,-1.1727366679528102,-0.1779053329128253,0.46821726295085725,0.6899943437122341,0.029466761400070145,-1.7294026671501892,0.10502710202947828,-0.21010214578524383,1.0576363180850203,0.12578683550930098,-0.8867248786694288,-0.9134925343495018,-0.624942614972945,-1.0944451018067536,-0.5737104375901916,-0.6424578253147767,-0.3979682347669095,-1.3166493530879573,-1.977394811022489,0.7076875731500868,-1.1194029281137234,0.7396917891220381,0.42600927227612545,-0.12830844863009447,0.2844888341942192,0.39664917187084525,-1.3490208285275156,0.6200592982584612,0.4632480571166877,2.1464743667829556,0.02811944792170367,-1.8609492582730869,0.5995932108051706,0.09903376458398888,-0.6351940054580314,-0.02557243359404744,-0.5155667073938172],\"xaxis\":\"x\",\"y\":[-0.924292764158838,-0.29914390413236086,-1.276125396203978,-1.996688537779966,-0.18884554937614512,-3.4085604601216595,-0.9226998226258238,-0.8846349676034325,-2.232853274064991,-3.192852375446399,-1.3819042056944117,-1.5881116563026056,-0.2641318589892239,-1.3440639366726792,0.07293735231162492,-1.025094654925673,-0.573065673714533,-1.1841082898598172,-0.7441179795260491,-1.8394731221934626,-0.9976588457989404,-1.0084214092050916,-1.5746457821173174,-2.062097339443654,-2.082103529274245,-0.8216188782107376,-1.695912548206674,-1.3665081887714265,-2.6466319642331393,-1.508287019424998,-1.417353275247617,-2.5668748165187365,-2.846738200304529,-2.4293890632661728,-0.4467787036441408,-1.531979461195814,-1.6653335085603813,-3.194388046135997,-3.27606990662831,0.011857718398705759,-1.8290488737414832,-1.089005099954509,-3.601826224150383,-1.2587067945047596,-1.8843033756359848,-1.3197758175828325,-0.4558030986851252,-1.4856690726897048,-2.6409231021121937,-0.49445565602877517,-1.9722109228501465,-0.6767921146247442,-2.037390091359784,-2.657144099818285,-2.2048021582344766,-0.6500595232319402,-1.156623842101043,-0.6963352655846692,-2.1766598816621476,-1.839970822062032,-2.3162203938640573],\"yaxis\":\"y\",\"type\":\"scatter\"},{\"hovertemplate\":\"color=1<br>0=%{x}<br>1=%{y}<extra></extra>\",\"legendgroup\":\"1\",\"marker\":{\"color\":\"#ab63fa\",\"symbol\":\"circle\"},\"mode\":\"markers\",\"name\":\"1\",\"orientation\":\"v\",\"showlegend\":true,\"x\":[2.8131911109383245,4.1454532401470345,2.864631836340028,2.9498064038687164,3.41956364620167,0.7670082865515073,2.614947914261471,0.5456922919019074,2.031682469221266,0.9533955264142686,2.9649727994314223,1.2611429130955998,3.2964051523997133,2.4210207054313377,1.5501388941389123,0.9972753078918452,2.0070580366511903,2.657619367925537,2.9581025939535706,1.0343658016937567,3.3818005283468358,1.5029079383791188,2.9301843578426574,0.6943440938031695,1.2564035843751904,2.3672807211193128,1.7843157115899766,-0.4327889171023572,4.618584095690829,1.8831660777269679,2.617542049965576,3.246673438012097,3.045469179750008,2.165864707688528,0.42477262122732756,0.4470409714187815,4.847911189571859,2.112863282254835,3.4607212055674177],\"xaxis\":\"x\",\"y\":[1.6450448686637225,0.22428796080345983,0.21641093386482035,0.8881551038982578,1.336967903363197,3.0386221243766953,1.4169146092286629,1.1129379980666927,0.4496141822135586,2.2101194901312144,0.6329999276034126,0.7679925869022772,-1.6950035705569695,1.456834227921493,0.7297808998358603,0.774969754065015,0.5842472964833445,0.5940167252918285,3.394403992867316,2.948821100832964,1.2732155171155917,2.0463023775084186,0.9553957428119745,3.3256454817717698,1.0419660626729355,1.4538157382577497,3.799862237190442,1.4431266901221458,-1.3093762592183318,1.4059278574037763,1.212568676615429,3.683302509119998,2.4686955219088444,1.0817969876228186,1.4851546145851011,2.5033950826843854,0.8235229305236197,0.789676472978031,3.825930646942867],\"yaxis\":\"y\",\"type\":\"scatter\"}],                        {\"template\":{\"data\":{\"bar\":[{\"error_x\":{\"color\":\"#2a3f5f\"},\"error_y\":{\"color\":\"#2a3f5f\"},\"marker\":{\"line\":{\"color\":\"#E5ECF6\",\"width\":0.5},\"pattern\":{\"fillmode\":\"overlay\",\"size\":10,\"solidity\":0.2}},\"type\":\"bar\"}],\"barpolar\":[{\"marker\":{\"line\":{\"color\":\"#E5ECF6\",\"width\":0.5},\"pattern\":{\"fillmode\":\"overlay\",\"size\":10,\"solidity\":0.2}},\"type\":\"barpolar\"}],\"carpet\":[{\"aaxis\":{\"endlinecolor\":\"#2a3f5f\",\"gridcolor\":\"white\",\"linecolor\":\"white\",\"minorgridcolor\":\"white\",\"startlinecolor\":\"#2a3f5f\"},\"baxis\":{\"endlinecolor\":\"#2a3f5f\",\"gridcolor\":\"white\",\"linecolor\":\"white\",\"minorgridcolor\":\"white\",\"startlinecolor\":\"#2a3f5f\"},\"type\":\"carpet\"}],\"choropleth\":[{\"colorbar\":{\"outlinewidth\":0,\"ticks\":\"\"},\"type\":\"choropleth\"}],\"contour\":[{\"colorbar\":{\"outlinewidth\":0,\"ticks\":\"\"},\"colorscale\":[[0.0,\"#0d0887\"],[0.1111111111111111,\"#46039f\"],[0.2222222222222222,\"#7201a8\"],[0.3333333333333333,\"#9c179e\"],[0.4444444444444444,\"#bd3786\"],[0.5555555555555556,\"#d8576b\"],[0.6666666666666666,\"#ed7953\"],[0.7777777777777778,\"#fb9f3a\"],[0.8888888888888888,\"#fdca26\"],[1.0,\"#f0f921\"]],\"type\":\"contour\"}],\"contourcarpet\":[{\"colorbar\":{\"outlinewidth\":0,\"ticks\":\"\"},\"type\":\"contourcarpet\"}],\"heatmap\":[{\"colorbar\":{\"outlinewidth\":0,\"ticks\":\"\"},\"colorscale\":[[0.0,\"#0d0887\"],[0.1111111111111111,\"#46039f\"],[0.2222222222222222,\"#7201a8\"],[0.3333333333333333,\"#9c179e\"],[0.4444444444444444,\"#bd3786\"],[0.5555555555555556,\"#d8576b\"],[0.6666666666666666,\"#ed7953\"],[0.7777777777777778,\"#fb9f3a\"],[0.8888888888888888,\"#fdca26\"],[1.0,\"#f0f921\"]],\"type\":\"heatmap\"}],\"heatmapgl\":[{\"colorbar\":{\"outlinewidth\":0,\"ticks\":\"\"},\"colorscale\":[[0.0,\"#0d0887\"],[0.1111111111111111,\"#46039f\"],[0.2222222222222222,\"#7201a8\"],[0.3333333333333333,\"#9c179e\"],[0.4444444444444444,\"#bd3786\"],[0.5555555555555556,\"#d8576b\"],[0.6666666666666666,\"#ed7953\"],[0.7777777777777778,\"#fb9f3a\"],[0.8888888888888888,\"#fdca26\"],[1.0,\"#f0f921\"]],\"type\":\"heatmapgl\"}],\"histogram\":[{\"marker\":{\"pattern\":{\"fillmode\":\"overlay\",\"size\":10,\"solidity\":0.2}},\"type\":\"histogram\"}],\"histogram2d\":[{\"colorbar\":{\"outlinewidth\":0,\"ticks\":\"\"},\"colorscale\":[[0.0,\"#0d0887\"],[0.1111111111111111,\"#46039f\"],[0.2222222222222222,\"#7201a8\"],[0.3333333333333333,\"#9c179e\"],[0.4444444444444444,\"#bd3786\"],[0.5555555555555556,\"#d8576b\"],[0.6666666666666666,\"#ed7953\"],[0.7777777777777778,\"#fb9f3a\"],[0.8888888888888888,\"#fdca26\"],[1.0,\"#f0f921\"]],\"type\":\"histogram2d\"}],\"histogram2dcontour\":[{\"colorbar\":{\"outlinewidth\":0,\"ticks\":\"\"},\"colorscale\":[[0.0,\"#0d0887\"],[0.1111111111111111,\"#46039f\"],[0.2222222222222222,\"#7201a8\"],[0.3333333333333333,\"#9c179e\"],[0.4444444444444444,\"#bd3786\"],[0.5555555555555556,\"#d8576b\"],[0.6666666666666666,\"#ed7953\"],[0.7777777777777778,\"#fb9f3a\"],[0.8888888888888888,\"#fdca26\"],[1.0,\"#f0f921\"]],\"type\":\"histogram2dcontour\"}],\"mesh3d\":[{\"colorbar\":{\"outlinewidth\":0,\"ticks\":\"\"},\"type\":\"mesh3d\"}],\"parcoords\":[{\"line\":{\"colorbar\":{\"outlinewidth\":0,\"ticks\":\"\"}},\"type\":\"parcoords\"}],\"pie\":[{\"automargin\":true,\"type\":\"pie\"}],\"scatter\":[{\"marker\":{\"colorbar\":{\"outlinewidth\":0,\"ticks\":\"\"}},\"type\":\"scatter\"}],\"scatter3d\":[{\"line\":{\"colorbar\":{\"outlinewidth\":0,\"ticks\":\"\"}},\"marker\":{\"colorbar\":{\"outlinewidth\":0,\"ticks\":\"\"}},\"type\":\"scatter3d\"}],\"scattercarpet\":[{\"marker\":{\"colorbar\":{\"outlinewidth\":0,\"ticks\":\"\"}},\"type\":\"scattercarpet\"}],\"scattergeo\":[{\"marker\":{\"colorbar\":{\"outlinewidth\":0,\"ticks\":\"\"}},\"type\":\"scattergeo\"}],\"scattergl\":[{\"marker\":{\"colorbar\":{\"outlinewidth\":0,\"ticks\":\"\"}},\"type\":\"scattergl\"}],\"scattermapbox\":[{\"marker\":{\"colorbar\":{\"outlinewidth\":0,\"ticks\":\"\"}},\"type\":\"scattermapbox\"}],\"scatterpolar\":[{\"marker\":{\"colorbar\":{\"outlinewidth\":0,\"ticks\":\"\"}},\"type\":\"scatterpolar\"}],\"scatterpolargl\":[{\"marker\":{\"colorbar\":{\"outlinewidth\":0,\"ticks\":\"\"}},\"type\":\"scatterpolargl\"}],\"scatterternary\":[{\"marker\":{\"colorbar\":{\"outlinewidth\":0,\"ticks\":\"\"}},\"type\":\"scatterternary\"}],\"surface\":[{\"colorbar\":{\"outlinewidth\":0,\"ticks\":\"\"},\"colorscale\":[[0.0,\"#0d0887\"],[0.1111111111111111,\"#46039f\"],[0.2222222222222222,\"#7201a8\"],[0.3333333333333333,\"#9c179e\"],[0.4444444444444444,\"#bd3786\"],[0.5555555555555556,\"#d8576b\"],[0.6666666666666666,\"#ed7953\"],[0.7777777777777778,\"#fb9f3a\"],[0.8888888888888888,\"#fdca26\"],[1.0,\"#f0f921\"]],\"type\":\"surface\"}],\"table\":[{\"cells\":{\"fill\":{\"color\":\"#EBF0F8\"},\"line\":{\"color\":\"white\"}},\"header\":{\"fill\":{\"color\":\"#C8D4E3\"},\"line\":{\"color\":\"white\"}},\"type\":\"table\"}]},\"layout\":{\"annotationdefaults\":{\"arrowcolor\":\"#2a3f5f\",\"arrowhead\":0,\"arrowwidth\":1},\"autotypenumbers\":\"strict\",\"coloraxis\":{\"colorbar\":{\"outlinewidth\":0,\"ticks\":\"\"}},\"colorscale\":{\"diverging\":[[0,\"#8e0152\"],[0.1,\"#c51b7d\"],[0.2,\"#de77ae\"],[0.3,\"#f1b6da\"],[0.4,\"#fde0ef\"],[0.5,\"#f7f7f7\"],[0.6,\"#e6f5d0\"],[0.7,\"#b8e186\"],[0.8,\"#7fbc41\"],[0.9,\"#4d9221\"],[1,\"#276419\"]],\"sequential\":[[0.0,\"#0d0887\"],[0.1111111111111111,\"#46039f\"],[0.2222222222222222,\"#7201a8\"],[0.3333333333333333,\"#9c179e\"],[0.4444444444444444,\"#bd3786\"],[0.5555555555555556,\"#d8576b\"],[0.6666666666666666,\"#ed7953\"],[0.7777777777777778,\"#fb9f3a\"],[0.8888888888888888,\"#fdca26\"],[1.0,\"#f0f921\"]],\"sequentialminus\":[[0.0,\"#0d0887\"],[0.1111111111111111,\"#46039f\"],[0.2222222222222222,\"#7201a8\"],[0.3333333333333333,\"#9c179e\"],[0.4444444444444444,\"#bd3786\"],[0.5555555555555556,\"#d8576b\"],[0.6666666666666666,\"#ed7953\"],[0.7777777777777778,\"#fb9f3a\"],[0.8888888888888888,\"#fdca26\"],[1.0,\"#f0f921\"]]},\"colorway\":[\"#636efa\",\"#EF553B\",\"#00cc96\",\"#ab63fa\",\"#FFA15A\",\"#19d3f3\",\"#FF6692\",\"#B6E880\",\"#FF97FF\",\"#FECB52\"],\"font\":{\"color\":\"#2a3f5f\"},\"geo\":{\"bgcolor\":\"white\",\"lakecolor\":\"white\",\"landcolor\":\"#E5ECF6\",\"showlakes\":true,\"showland\":true,\"subunitcolor\":\"white\"},\"hoverlabel\":{\"align\":\"left\"},\"hovermode\":\"closest\",\"mapbox\":{\"style\":\"light\"},\"paper_bgcolor\":\"white\",\"plot_bgcolor\":\"#E5ECF6\",\"polar\":{\"angularaxis\":{\"gridcolor\":\"white\",\"linecolor\":\"white\",\"ticks\":\"\"},\"bgcolor\":\"#E5ECF6\",\"radialaxis\":{\"gridcolor\":\"white\",\"linecolor\":\"white\",\"ticks\":\"\"}},\"scene\":{\"xaxis\":{\"backgroundcolor\":\"#E5ECF6\",\"gridcolor\":\"white\",\"gridwidth\":2,\"linecolor\":\"white\",\"showbackground\":true,\"ticks\":\"\",\"zerolinecolor\":\"white\"},\"yaxis\":{\"backgroundcolor\":\"#E5ECF6\",\"gridcolor\":\"white\",\"gridwidth\":2,\"linecolor\":\"white\",\"showbackground\":true,\"ticks\":\"\",\"zerolinecolor\":\"white\"},\"zaxis\":{\"backgroundcolor\":\"#E5ECF6\",\"gridcolor\":\"white\",\"gridwidth\":2,\"linecolor\":\"white\",\"showbackground\":true,\"ticks\":\"\",\"zerolinecolor\":\"white\"}},\"shapedefaults\":{\"line\":{\"color\":\"#2a3f5f\"}},\"ternary\":{\"aaxis\":{\"gridcolor\":\"white\",\"linecolor\":\"white\",\"ticks\":\"\"},\"baxis\":{\"gridcolor\":\"white\",\"linecolor\":\"white\",\"ticks\":\"\"},\"bgcolor\":\"#E5ECF6\",\"caxis\":{\"gridcolor\":\"white\",\"linecolor\":\"white\",\"ticks\":\"\"}},\"title\":{\"x\":0.05},\"xaxis\":{\"automargin\":true,\"gridcolor\":\"white\",\"linecolor\":\"white\",\"ticks\":\"\",\"title\":{\"standoff\":15},\"zerolinecolor\":\"white\",\"zerolinewidth\":2},\"yaxis\":{\"automargin\":true,\"gridcolor\":\"white\",\"linecolor\":\"white\",\"ticks\":\"\",\"title\":{\"standoff\":15},\"zerolinecolor\":\"white\",\"zerolinewidth\":2}}},\"xaxis\":{\"anchor\":\"y\",\"domain\":[0.0,1.0],\"title\":{\"text\":\"0\"}},\"yaxis\":{\"anchor\":\"x\",\"domain\":[0.0,1.0],\"title\":{\"text\":\"1\"}},\"legend\":{\"title\":{\"text\":\"color\"},\"tracegroupgap\":0},\"margin\":{\"t\":60}},                        {\"responsive\": true}                    ).then(function(){\n",
       "                            \n",
       "var gd = document.getElementById('3dc43f9f-4193-4b29-9a6d-cf49da8f45b6');\n",
       "var x = new MutationObserver(function (mutations, observer) {{\n",
       "        var display = window.getComputedStyle(gd).display;\n",
       "        if (!display || display === 'none') {{\n",
       "            console.log([gd, 'removed!']);\n",
       "            Plotly.purge(gd);\n",
       "            observer.disconnect();\n",
       "        }}\n",
       "}});\n",
       "\n",
       "// Listen for the removal of the full notebook cells\n",
       "var notebookContainer = gd.closest('#notebook-container');\n",
       "if (notebookContainer) {{\n",
       "    x.observe(notebookContainer, {childList: true});\n",
       "}}\n",
       "\n",
       "// Listen for the clearing of the current output cell\n",
       "var outputEl = gd.closest('.output');\n",
       "if (outputEl) {{\n",
       "    x.observe(outputEl, {childList: true});\n",
       "}}\n",
       "\n",
       "                        })                };                });            </script>        </div>"
      ]
     },
     "metadata": {},
     "output_type": "display_data"
    }
   ],
   "source": [
    "import plotly.express as px\n",
    "from sklearn.decomposition import PCA\n",
    "\n",
    "pca = PCA(n_components=2)\n",
    "components = pca.fit_transform(vector_review)\n",
    "\n",
    "fig = px.scatter(components, x=0, y=1, color=df['KMeans ID'].astype(\"category\"))\n",
    "fig.show()"
   ]
  },
  {
   "cell_type": "code",
   "execution_count": 90,
   "metadata": {
    "colab": {
     "base_uri": "https://localhost:8080/"
    },
    "executionInfo": {
     "elapsed": 7,
     "status": "ok",
     "timestamp": 1636856147756,
     "user": {
      "displayName": "Thanachart Ritbumroong",
      "photoUrl": "https://lh3.googleusercontent.com/a/default-user=s64",
      "userId": "18414212507793256437"
     },
     "user_tz": -420
    },
    "id": "n0LZ5H8_Dqvn",
    "outputId": "adf5dfd7-526e-4b83-8ee4-d25477fe9a09"
   },
   "outputs": [
    {
     "name": "stdout",
     "output_type": "stream",
     "text": [
      "Cluster ID : 0\n",
      "\n",
      "Most common words include : [('ร้านกาแฟ', 12), ('กาแฟ', 10), ('ร้านอาหาร', 6), ('ทาน', 5), ('น่ารัก', 4), ('นั่ง', 4), ('บรรยากาศ', 4), ('ร', 4), (':', 3), ('ม', 3)]\n",
      "\n",
      "Cluster ID : 1\n",
      "\n",
      "Most common words include : [('ส้มตำ', 5), ('บอ', 4), ('ร้านอาหาร', 4), ('กิน', 4), ('อร่อย', 4), ('ยำ', 3), ('แซ่บ', 3), ('ครั้งแรก', 3), ('ดีล', 3), ('เพื่อน', 3)]\n",
      "\n",
      "Cluster ID : 2\n",
      "\n",
      "Most common words include : [('ทาน', 13), ('อร่อย', 10), ('กาแฟ', 10), ('อาหาร', 8), ('ร้านอาหาร', 7), ('กิน', 6), ('รสชาติ', 5), ('ลอง', 4), ('ร้านกาแฟ', 4), ('ชอบ', 4)]\n",
      "\n",
      "Cluster ID : 3\n",
      "\n",
      "Most common words include : [('ร้านกาแฟ', 13), ('กิน', 11), ('ทาน', 10), ('ชานมไข่มุก', 9), ('ชอบ', 8), ('กาแฟ', 8), ('สาขา', 7), ('เจอ', 6), ('หา', 6), ('เดิน', 5)]\n",
      "\n"
     ]
    }
   ],
   "source": [
    "#show top keywords of each cluster\n",
    "\n",
    "top_N_words = 10\n",
    "\n",
    "for i in range(0, len(df_kmeans)):\n",
    "  print(f\"Cluster ID : {i}\\n\")\n",
    "  print(f\"Most common words include : {list(df_kmeans['texts_count'][i])[:top_N_words]}\\n\")\n",
    "\n",
    "#tune a model by remove unwanted characters and words and add more words to a custom dictionary"
   ]
  },
  {
   "cell_type": "markdown",
   "metadata": {
    "id": "3aNJxg2ATtmK"
   },
   "source": [
    "**result discussion**"
   ]
  },
  {
   "cell_type": "markdown",
   "metadata": {},
   "source": [
    "* Cluster 1: เกี่ยวกับร้านอาหาร ร้านกาแฟ ที่บรรยากาศดีน่านั่ง\n",
    "* Cluster 2: เกี่ยวกับร้านอาหารรสแซ่บ เช่น ส้มตำ ยำ\n",
    "* Cluster 3: เกี่ยวกับการลองทานร้านอาหาร กาแฟ แล้วชอบในรสชาติ\n",
    "* Cluster 4: เกี่ยวกับการเสาะแสวงหาร้านกาแฟ ชานมไข่มุกแฟรนไชส์ที่กินแล้วชอบ"
   ]
  },
  {
   "cell_type": "markdown",
   "metadata": {
    "id": "9Qe8TReCQTOo"
   },
   "source": [
    "**Step 3 - document clustering using Agglomorative Clustering with cosine similarity**"
   ]
  },
  {
   "cell_type": "code",
   "execution_count": 91,
   "metadata": {
    "id": "VWgW-tCkcPgU"
   },
   "outputs": [],
   "source": [
    "#clustering using agglomorative clustering\n",
    "\n",
    "knn_graph = kneighbors_graph(vector_review, 5, include_self=False)\n",
    "model = AgglomerativeClustering(linkage=\"average\", connectivity=knn_graph, n_clusters=4, affinity=\"cosine\")\n",
    "model.fit(vector_review)\n",
    "df['Agglomerative ID'] = model.labels_"
   ]
  },
  {
   "cell_type": "code",
   "execution_count": 92,
   "metadata": {},
   "outputs": [
    {
     "data": {
      "text/plain": [
       "0    296\n",
       "1      2\n",
       "2      1\n",
       "3      1\n",
       "Name: Agglomerative ID, dtype: int64"
      ]
     },
     "execution_count": 92,
     "metadata": {},
     "output_type": "execute_result"
    }
   ],
   "source": [
    "df['Agglomerative ID'].value_counts()"
   ]
  },
  {
   "cell_type": "code",
   "execution_count": 93,
   "metadata": {
    "id": "XHfsJyL8dmGC"
   },
   "outputs": [],
   "source": [
    "#merge all reviews of each cluster into one big sentence \n",
    "\n",
    "df_Agglomerative = pd.DataFrame(columns=[\"Agglomerative ID\", \"texts\"])\n",
    "\n",
    "\n",
    "for i in range(0, k):\n",
    "  row = []\n",
    "  row.append(i)\n",
    "  row.append(str(df['Review'][df['Agglomerative ID'] == i].tolist()))\n",
    "  df_Agglomerative.loc[len(df_Agglomerative)] = row"
   ]
  },
  {
   "cell_type": "code",
   "execution_count": 94,
   "metadata": {
    "id": "7hsSbTWvdtK2"
   },
   "outputs": [],
   "source": [
    "#clean and tokenize sentences. count the occurences of each word\n",
    "\n",
    "df_Agglomerative['texts'] = df_Agglomerative['texts'].apply(lambda x: emoji_pattern.sub(r'', x))\n",
    "df_Agglomerative['texts'] = df_Agglomerative['texts'].apply(lambda x: specialchar_pattern.sub(r'', x))\n",
    "df_Agglomerative['texts'] = df_Agglomerative['texts'].apply(lambda x: number_pattern.sub(r'', x))\n",
    "df_Agglomerative['texts'] = df_Agglomerative['texts'].apply(lambda x: space_pattern.sub(r'', x))\n",
    "df_Agglomerative['texts'] = df_Agglomerative['texts'].apply(lambda x: dot_pattern.sub(r'', x))\n",
    "df_Agglomerative['texts'] = df_Agglomerative['texts'].apply(lambda x: backslash_pattern.sub(r'', x))\n",
    "df_Agglomerative['texts_tokenized'] = df_Agglomerative['texts'].apply(lambda x: tokenize_to_list(x))\n",
    "df_Agglomerative['texts_count'] = df_Agglomerative['texts_tokenized'].apply(lambda x: collections.Counter(x).most_common())"
   ]
  },
  {
   "cell_type": "code",
   "execution_count": 95,
   "metadata": {
    "scrolled": false
   },
   "outputs": [
    {
     "data": {
      "application/vnd.plotly.v1+json": {
       "config": {
        "plotlyServerURL": "https://plot.ly"
       },
       "data": [
        {
         "hovertemplate": "color=0<br>0=%{x}<br>1=%{y}<extra></extra>",
         "legendgroup": "0",
         "marker": {
          "color": "#636efa",
          "symbol": "circle"
         },
         "mode": "markers",
         "name": "0",
         "orientation": "v",
         "showlegend": true,
         "type": "scatter",
         "x": [
          -0.19967210217048767,
          -0.6468726923149678,
          3.8269452194151627,
          1.5418888854984534,
          1.199319886529261,
          0.8095442671041712,
          0.001089473575516513,
          -4.058156753361319,
          -0.5157512353126922,
          2.8131911109383245,
          0.11392844715640182,
          -2.743531622892944,
          -1.0433179817542433,
          -1.7479849505348626,
          4.1454532401470345,
          -1.4458291767327562,
          -2.537244068936753,
          2.5709720378372305,
          0.5227166883510289,
          -1.404319410127226,
          0.128304328505235,
          1.3373819641251956,
          -1.1521433711561293,
          1.4960869964398043,
          -2.575590513037215,
          2.4387936358656166,
          1.2842734421586284,
          -0.536258967791599,
          -0.9953362002905609,
          -0.5449872478433206,
          -0.5028929940463333,
          -0.41485992173837016,
          -3.063528074294982,
          -0.5943365178728595,
          -1.212035335446878,
          0.12388076053663866,
          -1.4753070963890067,
          -0.1000578801105016,
          1.1963689536012871,
          -1.5890986082398026,
          -0.7421567667477835,
          2.016919001969275,
          -0.9367981702879752,
          -1.4225986374174064,
          -2.763358520854124,
          -1.0581701708240796,
          0.7188456617798249,
          -0.08241960249657239,
          0.1803438757718266,
          2.864631836340028,
          -1.3792004357740568,
          -0.06604407770243524,
          0.8671663009598152,
          0.15095253231589198,
          -0.47319709538828814,
          -2.6785648878348316,
          1.058738757097051,
          0.7949571251532299,
          -2.592023898031852,
          -1.1791278926920943,
          0.6089671524479401,
          -1.279992207682485,
          -2.9310605187291805,
          -1.433000131896622,
          -1.0117195669798003,
          -0.8593994650041976,
          -1.274728392783477,
          2.9498064038687164,
          0.5167449739895721,
          -0.349535011849951,
          -2.4412829673910323,
          3.950653949410418,
          0.7511607872294359,
          1.029544394871221,
          -3.4771398341473816,
          -0.5826218896408939,
          4.384855613452309,
          3.41956364620167,
          -1.6148290765095499,
          1.3408567191866283,
          0.26004991020973134,
          1.0481308430822578,
          0.7670082865515073,
          -1.1319896758695565,
          -1.5864355206447363,
          0.12195614642027754,
          -1.3721164410957791,
          1.252267760219845,
          0.5299772328101332,
          -1.9800011460140756,
          -0.8733135684676964,
          -3.0500038338086832,
          -3.0431080038283995,
          -0.8094040239154656,
          -0.5969169894610161,
          0.07057821305714489,
          -1.0823789831518653,
          1.1907771887876173,
          -0.27196802684969273,
          -0.6468816827559518,
          0.5456922919019074,
          -1.0731458512090903,
          -1.3504783386433086,
          0.40595502107297005,
          -0.6380454578760448,
          -2.052170586679004,
          -2.3752584326351256,
          1.7106381243653948,
          -0.46396293255717763,
          2.031682469221266,
          3.176335102378938,
          1.7642871093435228,
          0.4729152883818939,
          0.07076235529432685,
          0.9533955264142686,
          2.9649727994314223,
          -3.216525028186375,
          -0.39015424967946755,
          -0.07088389291656455,
          -1.7726486358301705,
          -3.7633778468229333,
          2.56937769743675,
          1.1805237482250583,
          1.8391458462199624,
          -0.16251722837327617,
          0.3128759092118616,
          2.9985946072390854,
          1.2611429130955998,
          -1.406651617018363,
          -0.45085065725232554,
          -0.40990673589665394,
          -1.7770810998458229,
          -3.341518195689683,
          0.6924593722417743,
          3.2964051523997133,
          -0.7588110562572639,
          1.5544754656271482,
          -0.5437077698116827,
          2.5164583617156384,
          2.4210207054313377,
          1.5501388941389123,
          -1.1727366679528102,
          -1.7100475901395826,
          0.9972753078918452,
          -2.0861895422969137,
          0.25911499365296886,
          -1.9099656212926541,
          0.6367925291418791,
          -1.3057378388950138,
          -0.1779053329128253,
          -1.6371482599835063,
          -0.48858471189668246,
          0.22485447995591176,
          -1.4088884467766123,
          1.1699973432373536,
          1.033012702524905,
          0.12823213191419033,
          2.657619367925537,
          -0.5989204608251975,
          0.46821726295085725,
          2.9581025939535706,
          0.6899943437122341,
          0.029466761400070145,
          0.60238763362137,
          2.298079169283894,
          2.536444381419424,
          -0.9521898292400521,
          -1.7294026671501892,
          2.0406452585537256,
          -4.19186362999694,
          0.10502710202947828,
          -2.675961806071429,
          -2.612805294146335,
          0.9931718274548407,
          -0.24470670572087075,
          1.2141440265552743,
          -0.21010214578524383,
          1.0576363180850203,
          0.12578683550930098,
          -0.7358787371677474,
          1.4861735963886136,
          -0.8867248786694288,
          2.8606885812945753,
          -0.9134925343495018,
          1.1436659268761402,
          0.02860645112557653,
          -4.531090536679698,
          0.040797507542277435,
          -1.6531710502648385,
          -0.6963508125740253,
          -1.6377625916114846,
          3.3818005283468358,
          1.5029079383791188,
          2.9301843578426574,
          0.2563221409251949,
          -1.0642663975748476,
          -0.30208649280896543,
          1.209045985789482,
          1.2614984294203164,
          0.4975801568085787,
          0.6943440938031695,
          0.3312219609597367,
          -0.624942614972945,
          -0.3690703106080041,
          -1.0944451018067536,
          -0.5737104375901916,
          -0.1715196641902608,
          -0.0076810357440974765,
          -0.6424578253147767,
          -0.8728150981573185,
          1.2564035843751904,
          -0.3979682347669095,
          -1.3166493530879573,
          0.5616862506344947,
          -1.3188433029090092,
          -1.977394811022489,
          0.7076875731500868,
          0.7498880755903369,
          -1.2683404713616986,
          -1.1194029281137234,
          2.3672807211193128,
          0.35650048746931023,
          0.6452003059889618,
          0.7396917891220381,
          -3.4026005728325592,
          0.42600927227612545,
          1.660852540554604,
          -1.0908995945933995,
          1.1958901545556,
          1.725462728205966,
          -2.1532957531987993,
          3.429120409834498,
          -1.9552930443988221,
          -1.3759841083651527,
          -0.2328596748195873,
          -1.708342997710846,
          -0.12830844863009447,
          -1.413724288604786,
          -3.4845405606606534,
          1.7843157115899766,
          1.7789352087333574,
          1.8802384148918265,
          1.5516347253378433,
          -2.514791147448481,
          0.2844888341942192,
          0.39664917187084525,
          -0.7508440824650643,
          0.43708876766232485,
          -0.4327889171023572,
          -0.9624956607075961,
          4.618584095690829,
          0.04271548962370154,
          -1.3490208285275156,
          1.8831660777269679,
          -2.6615153936382447,
          -2.543062606581306,
          0.6200592982584612,
          2.617542049965576,
          0.8473736935599588,
          1.622897408052529,
          3.246673438012097,
          3.045469179750008,
          0.21760713539900095,
          0.4632480571166877,
          2.1464743667829556,
          -1.4848661839224704,
          2.165864707688528,
          -3.9040627558218044,
          0.02811944792170367,
          1.0744071611554729,
          0.42477262122732756,
          0.4470409714187815,
          1.879453973366142,
          -0.25303415834362425,
          2.2196006208519905,
          -0.20640203806099527,
          -1.413362219022809,
          -1.8609492582730869,
          0.5995932108051706,
          0.09903376458398888,
          -2.9058440755551542,
          0.5694448398140711,
          4.847911189571859,
          -0.674435055164688,
          -2.196363952013654,
          2.112863282254835,
          -1.297116776847675,
          0.33372255666695,
          -0.6351940054580314,
          -0.02557243359404744,
          -0.7202641383174752,
          3.4607212055674177,
          -0.5155667073938172,
          0.7051639930753041,
          -3.509894509658131,
          -2.121364552115998
         ],
         "xaxis": "x",
         "y": [
          1.2788320972967395,
          -0.20217917231867857,
          0.6554169846173025,
          0.19098083691044462,
          0.23731435874647533,
          -0.5339381522241148,
          -0.924292764158838,
          -0.29914390413236086,
          0.3967947382542873,
          1.6450448686637225,
          1.6010101749520955,
          -0.6752300086994133,
          -1.276125396203978,
          0.6369308883696939,
          0.22428796080345983,
          0.28963966434899013,
          -1.996688537779966,
          1.1575562184241466,
          -0.6253454711048192,
          0.4552099644584689,
          0.22392987734273803,
          -1.239488841005339,
          0.34518723487821024,
          1.8520184004621814,
          0.5972008846364633,
          -1.3266968337349752,
          2.181576604769487,
          3.023882094264832,
          0.07570665670403348,
          0.1563733177732489,
          -0.18884554937614512,
          2.3629690510938484,
          -3.4085604601216595,
          0.7284744074306598,
          -0.3409427159185403,
          -0.28171183768141594,
          -0.9226998226258238,
          0.5438827182825059,
          -0.16627682917250008,
          0.5685399937524326,
          -0.8616235796948708,
          -0.8896052421786727,
          1.0467990076526363,
          -0.6542638340337663,
          0.96643326509182,
          0.2093998964848347,
          -1.9817786479469341,
          0.6257811215018746,
          -0.3554250150916758,
          0.21641093386482035,
          -0.8746235440589333,
          -0.8846349676034325,
          -0.4939787079745472,
          -0.8069257264826506,
          0.27277498062214683,
          -2.232853274064991,
          -0.3235861496728557,
          -0.9492939314485184,
          1.403114302367485,
          0.34225224590279046,
          -1.7400921995592713,
          -0.3053774483383814,
          -1.0744021166634037,
          -3.192852375446399,
          0.10177943010848384,
          0.44478510295960294,
          -1.3819042056944117,
          0.8881551038982578,
          0.6029000196269054,
          0.33730255555209027,
          0.7939889178869893,
          0.9708407495149519,
          -1.2638488906511895,
          -1.5881116563026056,
          2.214847072485489,
          -0.2641318589892239,
          0.37126098008322805,
          1.336967903363197,
          0.8371997944659311,
          0.3599873653040989,
          0.06066718555213853,
          -0.71174174856215,
          3.0386221243766953,
          0.7150103814158862,
          2.125633074987515,
          0.32393294326784217,
          -0.021178240953245803,
          0.37604976688137526,
          0.06597200139597341,
          0.15478325328389095,
          -1.3440639366726792,
          -0.20948516924803118,
          0.13633620312825703,
          0.5607687617651506,
          0.07293735231162492,
          0.20020733034282148,
          -1.025094654925673,
          0.12458689648816329,
          -0.510834952059289,
          -0.573065673714533,
          1.1129379980666927,
          -1.1841082898598172,
          0.9717254158555659,
          -0.7441179795260491,
          0.23876399266480428,
          -1.8394731221934626,
          -0.13557662556265745,
          -0.9099337403634147,
          -0.9976588457989404,
          0.4496141822135586,
          -0.2928944712464312,
          0.5305263584011065,
          0.5734129808326067,
          0.33188462142746467,
          2.2101194901312144,
          0.6329999276034126,
          -0.3035152362310735,
          -0.2590289029453532,
          -0.3279677636168302,
          0.18784706586073055,
          1.6122542054888094,
          -2.3980840459318236,
          -1.3821257881905598,
          -1.4353852726884404,
          -1.0084214092050916,
          -1.5746457821173174,
          0.24637711048478642,
          0.7679925869022772,
          0.05768010246012654,
          -0.4976267199817332,
          -0.021512310064026735,
          2.408141731455813,
          -2.062097339443654,
          -0.4220086053454323,
          -1.6950035705569695,
          0.9337868368182347,
          -0.40105293370198436,
          1.3189901483138426,
          -1.7512637718861095,
          1.456834227921493,
          0.7297808998358603,
          -2.082103529274245,
          0.7385602076792478,
          0.774969754065015,
          1.574137209313665,
          0.2751601815728432,
          0.8947254899693593,
          -0.9453730117529426,
          0.9963551213451691,
          -0.8216188782107376,
          2.163437315668581,
          2.2729502071498264,
          0.9928908535419201,
          2.050849212559941,
          0.39957183390586914,
          -0.5322687371179373,
          0.9161523854813962,
          0.5940167252918285,
          -0.07115596361037435,
          -1.695912548206674,
          3.394403992867316,
          -1.3665081887714265,
          -2.6466319642331393,
          0.30142133137482424,
          -2.9596768771796227,
          0.4377341072957409,
          0.6888682650179306,
          -1.508287019424998,
          0.1994251054656459,
          1.0113567257596954,
          -1.417353275247617,
          3.35558738784639,
          1.0194742536473496,
          0.08789298865697617,
          0.21488726008423892,
          -0.13344759547572438,
          -2.5668748165187365,
          -2.846738200304529,
          -2.4293890632661728,
          1.0007925049093327,
          -1.8517108311670991,
          -0.4467787036441408,
          -2.2102895668475413,
          -1.531979461195814,
          -0.915564096069426,
          -0.7700760765430402,
          1.1978701786752868,
          0.6648834615964335,
          0.18106376304293972,
          0.9800103046770997,
          1.4894669725897802,
          1.2732155171155917,
          2.0463023775084186,
          0.9553957428119745,
          -1.5745437881008137,
          -0.2798052735170734,
          1.582084253166764,
          -1.4773181398235218,
          -1.2783170007593576,
          1.239382236604856,
          3.3256454817717698,
          -0.9709114721380143,
          -1.6653335085603813,
          -1.3875259549279433,
          -3.194388046135997,
          -3.27606990662831,
          -0.07285138846271966,
          -0.008939391906813777,
          0.011857718398705759,
          -1.239541645388286,
          1.0419660626729355,
          -1.8290488737414832,
          -1.089005099954509,
          -0.6408671585534876,
          0.3961176183265735,
          -3.601826224150383,
          -1.2587067945047596,
          0.07221603137319269,
          0.2751850797418805,
          -1.8843033756359848,
          1.4538157382577497,
          1.6594084755293113,
          -0.41981503370317785,
          -1.3197758175828325,
          1.1913287163216537,
          -0.4558030986851252,
          -1.9506806111413386,
          0.3981183153997898,
          0.013253122334099067,
          -0.6931605585473183,
          1.536795260570615,
          -1.0632604839189845,
          1.266166966215321,
          0.20573283108709028,
          1.1345376032150967,
          -0.7478780442317203,
          -1.4856690726897048,
          -0.6225442856090403,
          2.4348697558234123,
          3.799862237190442,
          -0.8363197382042316,
          -0.15563225839881237,
          0.5972086116057994,
          -0.32408354083082536,
          -2.6409231021121937,
          -0.49445565602877517,
          0.2598710456598423,
          -0.37683085402822336,
          1.4431266901221458,
          1.5105639015043155,
          -1.3093762592183318,
          0.11320085588227394,
          -1.9722109228501465,
          1.4059278574037763,
          2.9053991918257043,
          2.153289895971999,
          -0.6767921146247442,
          1.212568676615429,
          -0.5362481068631523,
          -0.8138693238235724,
          3.683302509119998,
          2.4686955219088444,
          -0.8033720552320507,
          -2.037390091359784,
          -2.657144099818285,
          1.3369285682553993,
          1.0817969876228186,
          2.3762360183259057,
          -2.2048021582344766,
          0.10409225177156198,
          1.4851546145851011,
          2.5033950826843854,
          -0.08819560351998204,
          0.348539923780822,
          -0.944540577442205,
          0.5574622423644876,
          -0.48043759363447247,
          -0.6500595232319402,
          -1.156623842101043,
          -0.6963352655846692,
          1.4418947830105626,
          -0.24743658346744954,
          0.8235229305236197,
          0.8091865021033091,
          0.4186158687675577,
          0.789676472978031,
          -0.3752685098969426,
          -0.23649888185953818,
          -2.1766598816621476,
          -1.839970822062032,
          -0.263324834388208,
          3.825930646942867,
          -2.3162203938640573,
          -0.7737446864322548,
          0.023080116522587284,
          0.12268492179694576
         ],
         "yaxis": "y"
        },
        {
         "hovertemplate": "color=3<br>0=%{x}<br>1=%{y}<extra></extra>",
         "legendgroup": "3",
         "marker": {
          "color": "#EF553B",
          "symbol": "circle"
         },
         "mode": "markers",
         "name": "3",
         "orientation": "v",
         "showlegend": true,
         "type": "scatter",
         "x": [
          0.8975689686786844
         ],
         "xaxis": "x",
         "y": [
          0.45641646198384983
         ],
         "yaxis": "y"
        },
        {
         "hovertemplate": "color=2<br>0=%{x}<br>1=%{y}<extra></extra>",
         "legendgroup": "2",
         "marker": {
          "color": "#00cc96",
          "symbol": "circle"
         },
         "mode": "markers",
         "name": "2",
         "orientation": "v",
         "showlegend": true,
         "type": "scatter",
         "x": [
          2.614947914261471
         ],
         "xaxis": "x",
         "y": [
          1.4169146092286629
         ],
         "yaxis": "y"
        },
        {
         "hovertemplate": "color=1<br>0=%{x}<br>1=%{y}<extra></extra>",
         "legendgroup": "1",
         "marker": {
          "color": "#ab63fa",
          "symbol": "circle"
         },
         "mode": "markers",
         "name": "1",
         "orientation": "v",
         "showlegend": true,
         "type": "scatter",
         "x": [
          2.0070580366511903,
          1.0343658016937567
         ],
         "xaxis": "x",
         "y": [
          0.5842472964833445,
          2.948821100832964
         ],
         "yaxis": "y"
        }
       ],
       "layout": {
        "legend": {
         "title": {
          "text": "color"
         },
         "tracegroupgap": 0
        },
        "margin": {
         "t": 60
        },
        "template": {
         "data": {
          "bar": [
           {
            "error_x": {
             "color": "#2a3f5f"
            },
            "error_y": {
             "color": "#2a3f5f"
            },
            "marker": {
             "line": {
              "color": "#E5ECF6",
              "width": 0.5
             },
             "pattern": {
              "fillmode": "overlay",
              "size": 10,
              "solidity": 0.2
             }
            },
            "type": "bar"
           }
          ],
          "barpolar": [
           {
            "marker": {
             "line": {
              "color": "#E5ECF6",
              "width": 0.5
             },
             "pattern": {
              "fillmode": "overlay",
              "size": 10,
              "solidity": 0.2
             }
            },
            "type": "barpolar"
           }
          ],
          "carpet": [
           {
            "aaxis": {
             "endlinecolor": "#2a3f5f",
             "gridcolor": "white",
             "linecolor": "white",
             "minorgridcolor": "white",
             "startlinecolor": "#2a3f5f"
            },
            "baxis": {
             "endlinecolor": "#2a3f5f",
             "gridcolor": "white",
             "linecolor": "white",
             "minorgridcolor": "white",
             "startlinecolor": "#2a3f5f"
            },
            "type": "carpet"
           }
          ],
          "choropleth": [
           {
            "colorbar": {
             "outlinewidth": 0,
             "ticks": ""
            },
            "type": "choropleth"
           }
          ],
          "contour": [
           {
            "colorbar": {
             "outlinewidth": 0,
             "ticks": ""
            },
            "colorscale": [
             [
              0,
              "#0d0887"
             ],
             [
              0.1111111111111111,
              "#46039f"
             ],
             [
              0.2222222222222222,
              "#7201a8"
             ],
             [
              0.3333333333333333,
              "#9c179e"
             ],
             [
              0.4444444444444444,
              "#bd3786"
             ],
             [
              0.5555555555555556,
              "#d8576b"
             ],
             [
              0.6666666666666666,
              "#ed7953"
             ],
             [
              0.7777777777777778,
              "#fb9f3a"
             ],
             [
              0.8888888888888888,
              "#fdca26"
             ],
             [
              1,
              "#f0f921"
             ]
            ],
            "type": "contour"
           }
          ],
          "contourcarpet": [
           {
            "colorbar": {
             "outlinewidth": 0,
             "ticks": ""
            },
            "type": "contourcarpet"
           }
          ],
          "heatmap": [
           {
            "colorbar": {
             "outlinewidth": 0,
             "ticks": ""
            },
            "colorscale": [
             [
              0,
              "#0d0887"
             ],
             [
              0.1111111111111111,
              "#46039f"
             ],
             [
              0.2222222222222222,
              "#7201a8"
             ],
             [
              0.3333333333333333,
              "#9c179e"
             ],
             [
              0.4444444444444444,
              "#bd3786"
             ],
             [
              0.5555555555555556,
              "#d8576b"
             ],
             [
              0.6666666666666666,
              "#ed7953"
             ],
             [
              0.7777777777777778,
              "#fb9f3a"
             ],
             [
              0.8888888888888888,
              "#fdca26"
             ],
             [
              1,
              "#f0f921"
             ]
            ],
            "type": "heatmap"
           }
          ],
          "heatmapgl": [
           {
            "colorbar": {
             "outlinewidth": 0,
             "ticks": ""
            },
            "colorscale": [
             [
              0,
              "#0d0887"
             ],
             [
              0.1111111111111111,
              "#46039f"
             ],
             [
              0.2222222222222222,
              "#7201a8"
             ],
             [
              0.3333333333333333,
              "#9c179e"
             ],
             [
              0.4444444444444444,
              "#bd3786"
             ],
             [
              0.5555555555555556,
              "#d8576b"
             ],
             [
              0.6666666666666666,
              "#ed7953"
             ],
             [
              0.7777777777777778,
              "#fb9f3a"
             ],
             [
              0.8888888888888888,
              "#fdca26"
             ],
             [
              1,
              "#f0f921"
             ]
            ],
            "type": "heatmapgl"
           }
          ],
          "histogram": [
           {
            "marker": {
             "pattern": {
              "fillmode": "overlay",
              "size": 10,
              "solidity": 0.2
             }
            },
            "type": "histogram"
           }
          ],
          "histogram2d": [
           {
            "colorbar": {
             "outlinewidth": 0,
             "ticks": ""
            },
            "colorscale": [
             [
              0,
              "#0d0887"
             ],
             [
              0.1111111111111111,
              "#46039f"
             ],
             [
              0.2222222222222222,
              "#7201a8"
             ],
             [
              0.3333333333333333,
              "#9c179e"
             ],
             [
              0.4444444444444444,
              "#bd3786"
             ],
             [
              0.5555555555555556,
              "#d8576b"
             ],
             [
              0.6666666666666666,
              "#ed7953"
             ],
             [
              0.7777777777777778,
              "#fb9f3a"
             ],
             [
              0.8888888888888888,
              "#fdca26"
             ],
             [
              1,
              "#f0f921"
             ]
            ],
            "type": "histogram2d"
           }
          ],
          "histogram2dcontour": [
           {
            "colorbar": {
             "outlinewidth": 0,
             "ticks": ""
            },
            "colorscale": [
             [
              0,
              "#0d0887"
             ],
             [
              0.1111111111111111,
              "#46039f"
             ],
             [
              0.2222222222222222,
              "#7201a8"
             ],
             [
              0.3333333333333333,
              "#9c179e"
             ],
             [
              0.4444444444444444,
              "#bd3786"
             ],
             [
              0.5555555555555556,
              "#d8576b"
             ],
             [
              0.6666666666666666,
              "#ed7953"
             ],
             [
              0.7777777777777778,
              "#fb9f3a"
             ],
             [
              0.8888888888888888,
              "#fdca26"
             ],
             [
              1,
              "#f0f921"
             ]
            ],
            "type": "histogram2dcontour"
           }
          ],
          "mesh3d": [
           {
            "colorbar": {
             "outlinewidth": 0,
             "ticks": ""
            },
            "type": "mesh3d"
           }
          ],
          "parcoords": [
           {
            "line": {
             "colorbar": {
              "outlinewidth": 0,
              "ticks": ""
             }
            },
            "type": "parcoords"
           }
          ],
          "pie": [
           {
            "automargin": true,
            "type": "pie"
           }
          ],
          "scatter": [
           {
            "marker": {
             "colorbar": {
              "outlinewidth": 0,
              "ticks": ""
             }
            },
            "type": "scatter"
           }
          ],
          "scatter3d": [
           {
            "line": {
             "colorbar": {
              "outlinewidth": 0,
              "ticks": ""
             }
            },
            "marker": {
             "colorbar": {
              "outlinewidth": 0,
              "ticks": ""
             }
            },
            "type": "scatter3d"
           }
          ],
          "scattercarpet": [
           {
            "marker": {
             "colorbar": {
              "outlinewidth": 0,
              "ticks": ""
             }
            },
            "type": "scattercarpet"
           }
          ],
          "scattergeo": [
           {
            "marker": {
             "colorbar": {
              "outlinewidth": 0,
              "ticks": ""
             }
            },
            "type": "scattergeo"
           }
          ],
          "scattergl": [
           {
            "marker": {
             "colorbar": {
              "outlinewidth": 0,
              "ticks": ""
             }
            },
            "type": "scattergl"
           }
          ],
          "scattermapbox": [
           {
            "marker": {
             "colorbar": {
              "outlinewidth": 0,
              "ticks": ""
             }
            },
            "type": "scattermapbox"
           }
          ],
          "scatterpolar": [
           {
            "marker": {
             "colorbar": {
              "outlinewidth": 0,
              "ticks": ""
             }
            },
            "type": "scatterpolar"
           }
          ],
          "scatterpolargl": [
           {
            "marker": {
             "colorbar": {
              "outlinewidth": 0,
              "ticks": ""
             }
            },
            "type": "scatterpolargl"
           }
          ],
          "scatterternary": [
           {
            "marker": {
             "colorbar": {
              "outlinewidth": 0,
              "ticks": ""
             }
            },
            "type": "scatterternary"
           }
          ],
          "surface": [
           {
            "colorbar": {
             "outlinewidth": 0,
             "ticks": ""
            },
            "colorscale": [
             [
              0,
              "#0d0887"
             ],
             [
              0.1111111111111111,
              "#46039f"
             ],
             [
              0.2222222222222222,
              "#7201a8"
             ],
             [
              0.3333333333333333,
              "#9c179e"
             ],
             [
              0.4444444444444444,
              "#bd3786"
             ],
             [
              0.5555555555555556,
              "#d8576b"
             ],
             [
              0.6666666666666666,
              "#ed7953"
             ],
             [
              0.7777777777777778,
              "#fb9f3a"
             ],
             [
              0.8888888888888888,
              "#fdca26"
             ],
             [
              1,
              "#f0f921"
             ]
            ],
            "type": "surface"
           }
          ],
          "table": [
           {
            "cells": {
             "fill": {
              "color": "#EBF0F8"
             },
             "line": {
              "color": "white"
             }
            },
            "header": {
             "fill": {
              "color": "#C8D4E3"
             },
             "line": {
              "color": "white"
             }
            },
            "type": "table"
           }
          ]
         },
         "layout": {
          "annotationdefaults": {
           "arrowcolor": "#2a3f5f",
           "arrowhead": 0,
           "arrowwidth": 1
          },
          "autotypenumbers": "strict",
          "coloraxis": {
           "colorbar": {
            "outlinewidth": 0,
            "ticks": ""
           }
          },
          "colorscale": {
           "diverging": [
            [
             0,
             "#8e0152"
            ],
            [
             0.1,
             "#c51b7d"
            ],
            [
             0.2,
             "#de77ae"
            ],
            [
             0.3,
             "#f1b6da"
            ],
            [
             0.4,
             "#fde0ef"
            ],
            [
             0.5,
             "#f7f7f7"
            ],
            [
             0.6,
             "#e6f5d0"
            ],
            [
             0.7,
             "#b8e186"
            ],
            [
             0.8,
             "#7fbc41"
            ],
            [
             0.9,
             "#4d9221"
            ],
            [
             1,
             "#276419"
            ]
           ],
           "sequential": [
            [
             0,
             "#0d0887"
            ],
            [
             0.1111111111111111,
             "#46039f"
            ],
            [
             0.2222222222222222,
             "#7201a8"
            ],
            [
             0.3333333333333333,
             "#9c179e"
            ],
            [
             0.4444444444444444,
             "#bd3786"
            ],
            [
             0.5555555555555556,
             "#d8576b"
            ],
            [
             0.6666666666666666,
             "#ed7953"
            ],
            [
             0.7777777777777778,
             "#fb9f3a"
            ],
            [
             0.8888888888888888,
             "#fdca26"
            ],
            [
             1,
             "#f0f921"
            ]
           ],
           "sequentialminus": [
            [
             0,
             "#0d0887"
            ],
            [
             0.1111111111111111,
             "#46039f"
            ],
            [
             0.2222222222222222,
             "#7201a8"
            ],
            [
             0.3333333333333333,
             "#9c179e"
            ],
            [
             0.4444444444444444,
             "#bd3786"
            ],
            [
             0.5555555555555556,
             "#d8576b"
            ],
            [
             0.6666666666666666,
             "#ed7953"
            ],
            [
             0.7777777777777778,
             "#fb9f3a"
            ],
            [
             0.8888888888888888,
             "#fdca26"
            ],
            [
             1,
             "#f0f921"
            ]
           ]
          },
          "colorway": [
           "#636efa",
           "#EF553B",
           "#00cc96",
           "#ab63fa",
           "#FFA15A",
           "#19d3f3",
           "#FF6692",
           "#B6E880",
           "#FF97FF",
           "#FECB52"
          ],
          "font": {
           "color": "#2a3f5f"
          },
          "geo": {
           "bgcolor": "white",
           "lakecolor": "white",
           "landcolor": "#E5ECF6",
           "showlakes": true,
           "showland": true,
           "subunitcolor": "white"
          },
          "hoverlabel": {
           "align": "left"
          },
          "hovermode": "closest",
          "mapbox": {
           "style": "light"
          },
          "paper_bgcolor": "white",
          "plot_bgcolor": "#E5ECF6",
          "polar": {
           "angularaxis": {
            "gridcolor": "white",
            "linecolor": "white",
            "ticks": ""
           },
           "bgcolor": "#E5ECF6",
           "radialaxis": {
            "gridcolor": "white",
            "linecolor": "white",
            "ticks": ""
           }
          },
          "scene": {
           "xaxis": {
            "backgroundcolor": "#E5ECF6",
            "gridcolor": "white",
            "gridwidth": 2,
            "linecolor": "white",
            "showbackground": true,
            "ticks": "",
            "zerolinecolor": "white"
           },
           "yaxis": {
            "backgroundcolor": "#E5ECF6",
            "gridcolor": "white",
            "gridwidth": 2,
            "linecolor": "white",
            "showbackground": true,
            "ticks": "",
            "zerolinecolor": "white"
           },
           "zaxis": {
            "backgroundcolor": "#E5ECF6",
            "gridcolor": "white",
            "gridwidth": 2,
            "linecolor": "white",
            "showbackground": true,
            "ticks": "",
            "zerolinecolor": "white"
           }
          },
          "shapedefaults": {
           "line": {
            "color": "#2a3f5f"
           }
          },
          "ternary": {
           "aaxis": {
            "gridcolor": "white",
            "linecolor": "white",
            "ticks": ""
           },
           "baxis": {
            "gridcolor": "white",
            "linecolor": "white",
            "ticks": ""
           },
           "bgcolor": "#E5ECF6",
           "caxis": {
            "gridcolor": "white",
            "linecolor": "white",
            "ticks": ""
           }
          },
          "title": {
           "x": 0.05
          },
          "xaxis": {
           "automargin": true,
           "gridcolor": "white",
           "linecolor": "white",
           "ticks": "",
           "title": {
            "standoff": 15
           },
           "zerolinecolor": "white",
           "zerolinewidth": 2
          },
          "yaxis": {
           "automargin": true,
           "gridcolor": "white",
           "linecolor": "white",
           "ticks": "",
           "title": {
            "standoff": 15
           },
           "zerolinecolor": "white",
           "zerolinewidth": 2
          }
         }
        },
        "xaxis": {
         "anchor": "y",
         "domain": [
          0,
          1
         ],
         "title": {
          "text": "0"
         }
        },
        "yaxis": {
         "anchor": "x",
         "domain": [
          0,
          1
         ],
         "title": {
          "text": "1"
         }
        }
       }
      },
      "text/html": [
       "<div>                            <div id=\"7121ef74-c7eb-4a66-909d-6c16ab2b85c6\" class=\"plotly-graph-div\" style=\"height:525px; width:100%;\"></div>            <script type=\"text/javascript\">                require([\"plotly\"], function(Plotly) {                    window.PLOTLYENV=window.PLOTLYENV || {};                                    if (document.getElementById(\"7121ef74-c7eb-4a66-909d-6c16ab2b85c6\")) {                    Plotly.newPlot(                        \"7121ef74-c7eb-4a66-909d-6c16ab2b85c6\",                        [{\"hovertemplate\":\"color=0<br>0=%{x}<br>1=%{y}<extra></extra>\",\"legendgroup\":\"0\",\"marker\":{\"color\":\"#636efa\",\"symbol\":\"circle\"},\"mode\":\"markers\",\"name\":\"0\",\"orientation\":\"v\",\"showlegend\":true,\"x\":[-0.19967210217048767,-0.6468726923149678,3.8269452194151627,1.5418888854984534,1.199319886529261,0.8095442671041712,0.001089473575516513,-4.058156753361319,-0.5157512353126922,2.8131911109383245,0.11392844715640182,-2.743531622892944,-1.0433179817542433,-1.7479849505348626,4.1454532401470345,-1.4458291767327562,-2.537244068936753,2.5709720378372305,0.5227166883510289,-1.404319410127226,0.128304328505235,1.3373819641251956,-1.1521433711561293,1.4960869964398043,-2.575590513037215,2.4387936358656166,1.2842734421586284,-0.536258967791599,-0.9953362002905609,-0.5449872478433206,-0.5028929940463333,-0.41485992173837016,-3.063528074294982,-0.5943365178728595,-1.212035335446878,0.12388076053663866,-1.4753070963890067,-0.1000578801105016,1.1963689536012871,-1.5890986082398026,-0.7421567667477835,2.016919001969275,-0.9367981702879752,-1.4225986374174064,-2.763358520854124,-1.0581701708240796,0.7188456617798249,-0.08241960249657239,0.1803438757718266,2.864631836340028,-1.3792004357740568,-0.06604407770243524,0.8671663009598152,0.15095253231589198,-0.47319709538828814,-2.6785648878348316,1.058738757097051,0.7949571251532299,-2.592023898031852,-1.1791278926920943,0.6089671524479401,-1.279992207682485,-2.9310605187291805,-1.433000131896622,-1.0117195669798003,-0.8593994650041976,-1.274728392783477,2.9498064038687164,0.5167449739895721,-0.349535011849951,-2.4412829673910323,3.950653949410418,0.7511607872294359,1.029544394871221,-3.4771398341473816,-0.5826218896408939,4.384855613452309,3.41956364620167,-1.6148290765095499,1.3408567191866283,0.26004991020973134,1.0481308430822578,0.7670082865515073,-1.1319896758695565,-1.5864355206447363,0.12195614642027754,-1.3721164410957791,1.252267760219845,0.5299772328101332,-1.9800011460140756,-0.8733135684676964,-3.0500038338086832,-3.0431080038283995,-0.8094040239154656,-0.5969169894610161,0.07057821305714489,-1.0823789831518653,1.1907771887876173,-0.27196802684969273,-0.6468816827559518,0.5456922919019074,-1.0731458512090903,-1.3504783386433086,0.40595502107297005,-0.6380454578760448,-2.052170586679004,-2.3752584326351256,1.7106381243653948,-0.46396293255717763,2.031682469221266,3.176335102378938,1.7642871093435228,0.4729152883818939,0.07076235529432685,0.9533955264142686,2.9649727994314223,-3.216525028186375,-0.39015424967946755,-0.07088389291656455,-1.7726486358301705,-3.7633778468229333,2.56937769743675,1.1805237482250583,1.8391458462199624,-0.16251722837327617,0.3128759092118616,2.9985946072390854,1.2611429130955998,-1.406651617018363,-0.45085065725232554,-0.40990673589665394,-1.7770810998458229,-3.341518195689683,0.6924593722417743,3.2964051523997133,-0.7588110562572639,1.5544754656271482,-0.5437077698116827,2.5164583617156384,2.4210207054313377,1.5501388941389123,-1.1727366679528102,-1.7100475901395826,0.9972753078918452,-2.0861895422969137,0.25911499365296886,-1.9099656212926541,0.6367925291418791,-1.3057378388950138,-0.1779053329128253,-1.6371482599835063,-0.48858471189668246,0.22485447995591176,-1.4088884467766123,1.1699973432373536,1.033012702524905,0.12823213191419033,2.657619367925537,-0.5989204608251975,0.46821726295085725,2.9581025939535706,0.6899943437122341,0.029466761400070145,0.60238763362137,2.298079169283894,2.536444381419424,-0.9521898292400521,-1.7294026671501892,2.0406452585537256,-4.19186362999694,0.10502710202947828,-2.675961806071429,-2.612805294146335,0.9931718274548407,-0.24470670572087075,1.2141440265552743,-0.21010214578524383,1.0576363180850203,0.12578683550930098,-0.7358787371677474,1.4861735963886136,-0.8867248786694288,2.8606885812945753,-0.9134925343495018,1.1436659268761402,0.02860645112557653,-4.531090536679698,0.040797507542277435,-1.6531710502648385,-0.6963508125740253,-1.6377625916114846,3.3818005283468358,1.5029079383791188,2.9301843578426574,0.2563221409251949,-1.0642663975748476,-0.30208649280896543,1.209045985789482,1.2614984294203164,0.4975801568085787,0.6943440938031695,0.3312219609597367,-0.624942614972945,-0.3690703106080041,-1.0944451018067536,-0.5737104375901916,-0.1715196641902608,-0.0076810357440974765,-0.6424578253147767,-0.8728150981573185,1.2564035843751904,-0.3979682347669095,-1.3166493530879573,0.5616862506344947,-1.3188433029090092,-1.977394811022489,0.7076875731500868,0.7498880755903369,-1.2683404713616986,-1.1194029281137234,2.3672807211193128,0.35650048746931023,0.6452003059889618,0.7396917891220381,-3.4026005728325592,0.42600927227612545,1.660852540554604,-1.0908995945933995,1.1958901545556,1.725462728205966,-2.1532957531987993,3.429120409834498,-1.9552930443988221,-1.3759841083651527,-0.2328596748195873,-1.708342997710846,-0.12830844863009447,-1.413724288604786,-3.4845405606606534,1.7843157115899766,1.7789352087333574,1.8802384148918265,1.5516347253378433,-2.514791147448481,0.2844888341942192,0.39664917187084525,-0.7508440824650643,0.43708876766232485,-0.4327889171023572,-0.9624956607075961,4.618584095690829,0.04271548962370154,-1.3490208285275156,1.8831660777269679,-2.6615153936382447,-2.543062606581306,0.6200592982584612,2.617542049965576,0.8473736935599588,1.622897408052529,3.246673438012097,3.045469179750008,0.21760713539900095,0.4632480571166877,2.1464743667829556,-1.4848661839224704,2.165864707688528,-3.9040627558218044,0.02811944792170367,1.0744071611554729,0.42477262122732756,0.4470409714187815,1.879453973366142,-0.25303415834362425,2.2196006208519905,-0.20640203806099527,-1.413362219022809,-1.8609492582730869,0.5995932108051706,0.09903376458398888,-2.9058440755551542,0.5694448398140711,4.847911189571859,-0.674435055164688,-2.196363952013654,2.112863282254835,-1.297116776847675,0.33372255666695,-0.6351940054580314,-0.02557243359404744,-0.7202641383174752,3.4607212055674177,-0.5155667073938172,0.7051639930753041,-3.509894509658131,-2.121364552115998],\"xaxis\":\"x\",\"y\":[1.2788320972967395,-0.20217917231867857,0.6554169846173025,0.19098083691044462,0.23731435874647533,-0.5339381522241148,-0.924292764158838,-0.29914390413236086,0.3967947382542873,1.6450448686637225,1.6010101749520955,-0.6752300086994133,-1.276125396203978,0.6369308883696939,0.22428796080345983,0.28963966434899013,-1.996688537779966,1.1575562184241466,-0.6253454711048192,0.4552099644584689,0.22392987734273803,-1.239488841005339,0.34518723487821024,1.8520184004621814,0.5972008846364633,-1.3266968337349752,2.181576604769487,3.023882094264832,0.07570665670403348,0.1563733177732489,-0.18884554937614512,2.3629690510938484,-3.4085604601216595,0.7284744074306598,-0.3409427159185403,-0.28171183768141594,-0.9226998226258238,0.5438827182825059,-0.16627682917250008,0.5685399937524326,-0.8616235796948708,-0.8896052421786727,1.0467990076526363,-0.6542638340337663,0.96643326509182,0.2093998964848347,-1.9817786479469341,0.6257811215018746,-0.3554250150916758,0.21641093386482035,-0.8746235440589333,-0.8846349676034325,-0.4939787079745472,-0.8069257264826506,0.27277498062214683,-2.232853274064991,-0.3235861496728557,-0.9492939314485184,1.403114302367485,0.34225224590279046,-1.7400921995592713,-0.3053774483383814,-1.0744021166634037,-3.192852375446399,0.10177943010848384,0.44478510295960294,-1.3819042056944117,0.8881551038982578,0.6029000196269054,0.33730255555209027,0.7939889178869893,0.9708407495149519,-1.2638488906511895,-1.5881116563026056,2.214847072485489,-0.2641318589892239,0.37126098008322805,1.336967903363197,0.8371997944659311,0.3599873653040989,0.06066718555213853,-0.71174174856215,3.0386221243766953,0.7150103814158862,2.125633074987515,0.32393294326784217,-0.021178240953245803,0.37604976688137526,0.06597200139597341,0.15478325328389095,-1.3440639366726792,-0.20948516924803118,0.13633620312825703,0.5607687617651506,0.07293735231162492,0.20020733034282148,-1.025094654925673,0.12458689648816329,-0.510834952059289,-0.573065673714533,1.1129379980666927,-1.1841082898598172,0.9717254158555659,-0.7441179795260491,0.23876399266480428,-1.8394731221934626,-0.13557662556265745,-0.9099337403634147,-0.9976588457989404,0.4496141822135586,-0.2928944712464312,0.5305263584011065,0.5734129808326067,0.33188462142746467,2.2101194901312144,0.6329999276034126,-0.3035152362310735,-0.2590289029453532,-0.3279677636168302,0.18784706586073055,1.6122542054888094,-2.3980840459318236,-1.3821257881905598,-1.4353852726884404,-1.0084214092050916,-1.5746457821173174,0.24637711048478642,0.7679925869022772,0.05768010246012654,-0.4976267199817332,-0.021512310064026735,2.408141731455813,-2.062097339443654,-0.4220086053454323,-1.6950035705569695,0.9337868368182347,-0.40105293370198436,1.3189901483138426,-1.7512637718861095,1.456834227921493,0.7297808998358603,-2.082103529274245,0.7385602076792478,0.774969754065015,1.574137209313665,0.2751601815728432,0.8947254899693593,-0.9453730117529426,0.9963551213451691,-0.8216188782107376,2.163437315668581,2.2729502071498264,0.9928908535419201,2.050849212559941,0.39957183390586914,-0.5322687371179373,0.9161523854813962,0.5940167252918285,-0.07115596361037435,-1.695912548206674,3.394403992867316,-1.3665081887714265,-2.6466319642331393,0.30142133137482424,-2.9596768771796227,0.4377341072957409,0.6888682650179306,-1.508287019424998,0.1994251054656459,1.0113567257596954,-1.417353275247617,3.35558738784639,1.0194742536473496,0.08789298865697617,0.21488726008423892,-0.13344759547572438,-2.5668748165187365,-2.846738200304529,-2.4293890632661728,1.0007925049093327,-1.8517108311670991,-0.4467787036441408,-2.2102895668475413,-1.531979461195814,-0.915564096069426,-0.7700760765430402,1.1978701786752868,0.6648834615964335,0.18106376304293972,0.9800103046770997,1.4894669725897802,1.2732155171155917,2.0463023775084186,0.9553957428119745,-1.5745437881008137,-0.2798052735170734,1.582084253166764,-1.4773181398235218,-1.2783170007593576,1.239382236604856,3.3256454817717698,-0.9709114721380143,-1.6653335085603813,-1.3875259549279433,-3.194388046135997,-3.27606990662831,-0.07285138846271966,-0.008939391906813777,0.011857718398705759,-1.239541645388286,1.0419660626729355,-1.8290488737414832,-1.089005099954509,-0.6408671585534876,0.3961176183265735,-3.601826224150383,-1.2587067945047596,0.07221603137319269,0.2751850797418805,-1.8843033756359848,1.4538157382577497,1.6594084755293113,-0.41981503370317785,-1.3197758175828325,1.1913287163216537,-0.4558030986851252,-1.9506806111413386,0.3981183153997898,0.013253122334099067,-0.6931605585473183,1.536795260570615,-1.0632604839189845,1.266166966215321,0.20573283108709028,1.1345376032150967,-0.7478780442317203,-1.4856690726897048,-0.6225442856090403,2.4348697558234123,3.799862237190442,-0.8363197382042316,-0.15563225839881237,0.5972086116057994,-0.32408354083082536,-2.6409231021121937,-0.49445565602877517,0.2598710456598423,-0.37683085402822336,1.4431266901221458,1.5105639015043155,-1.3093762592183318,0.11320085588227394,-1.9722109228501465,1.4059278574037763,2.9053991918257043,2.153289895971999,-0.6767921146247442,1.212568676615429,-0.5362481068631523,-0.8138693238235724,3.683302509119998,2.4686955219088444,-0.8033720552320507,-2.037390091359784,-2.657144099818285,1.3369285682553993,1.0817969876228186,2.3762360183259057,-2.2048021582344766,0.10409225177156198,1.4851546145851011,2.5033950826843854,-0.08819560351998204,0.348539923780822,-0.944540577442205,0.5574622423644876,-0.48043759363447247,-0.6500595232319402,-1.156623842101043,-0.6963352655846692,1.4418947830105626,-0.24743658346744954,0.8235229305236197,0.8091865021033091,0.4186158687675577,0.789676472978031,-0.3752685098969426,-0.23649888185953818,-2.1766598816621476,-1.839970822062032,-0.263324834388208,3.825930646942867,-2.3162203938640573,-0.7737446864322548,0.023080116522587284,0.12268492179694576],\"yaxis\":\"y\",\"type\":\"scatter\"},{\"hovertemplate\":\"color=3<br>0=%{x}<br>1=%{y}<extra></extra>\",\"legendgroup\":\"3\",\"marker\":{\"color\":\"#EF553B\",\"symbol\":\"circle\"},\"mode\":\"markers\",\"name\":\"3\",\"orientation\":\"v\",\"showlegend\":true,\"x\":[0.8975689686786844],\"xaxis\":\"x\",\"y\":[0.45641646198384983],\"yaxis\":\"y\",\"type\":\"scatter\"},{\"hovertemplate\":\"color=2<br>0=%{x}<br>1=%{y}<extra></extra>\",\"legendgroup\":\"2\",\"marker\":{\"color\":\"#00cc96\",\"symbol\":\"circle\"},\"mode\":\"markers\",\"name\":\"2\",\"orientation\":\"v\",\"showlegend\":true,\"x\":[2.614947914261471],\"xaxis\":\"x\",\"y\":[1.4169146092286629],\"yaxis\":\"y\",\"type\":\"scatter\"},{\"hovertemplate\":\"color=1<br>0=%{x}<br>1=%{y}<extra></extra>\",\"legendgroup\":\"1\",\"marker\":{\"color\":\"#ab63fa\",\"symbol\":\"circle\"},\"mode\":\"markers\",\"name\":\"1\",\"orientation\":\"v\",\"showlegend\":true,\"x\":[2.0070580366511903,1.0343658016937567],\"xaxis\":\"x\",\"y\":[0.5842472964833445,2.948821100832964],\"yaxis\":\"y\",\"type\":\"scatter\"}],                        {\"template\":{\"data\":{\"bar\":[{\"error_x\":{\"color\":\"#2a3f5f\"},\"error_y\":{\"color\":\"#2a3f5f\"},\"marker\":{\"line\":{\"color\":\"#E5ECF6\",\"width\":0.5},\"pattern\":{\"fillmode\":\"overlay\",\"size\":10,\"solidity\":0.2}},\"type\":\"bar\"}],\"barpolar\":[{\"marker\":{\"line\":{\"color\":\"#E5ECF6\",\"width\":0.5},\"pattern\":{\"fillmode\":\"overlay\",\"size\":10,\"solidity\":0.2}},\"type\":\"barpolar\"}],\"carpet\":[{\"aaxis\":{\"endlinecolor\":\"#2a3f5f\",\"gridcolor\":\"white\",\"linecolor\":\"white\",\"minorgridcolor\":\"white\",\"startlinecolor\":\"#2a3f5f\"},\"baxis\":{\"endlinecolor\":\"#2a3f5f\",\"gridcolor\":\"white\",\"linecolor\":\"white\",\"minorgridcolor\":\"white\",\"startlinecolor\":\"#2a3f5f\"},\"type\":\"carpet\"}],\"choropleth\":[{\"colorbar\":{\"outlinewidth\":0,\"ticks\":\"\"},\"type\":\"choropleth\"}],\"contour\":[{\"colorbar\":{\"outlinewidth\":0,\"ticks\":\"\"},\"colorscale\":[[0.0,\"#0d0887\"],[0.1111111111111111,\"#46039f\"],[0.2222222222222222,\"#7201a8\"],[0.3333333333333333,\"#9c179e\"],[0.4444444444444444,\"#bd3786\"],[0.5555555555555556,\"#d8576b\"],[0.6666666666666666,\"#ed7953\"],[0.7777777777777778,\"#fb9f3a\"],[0.8888888888888888,\"#fdca26\"],[1.0,\"#f0f921\"]],\"type\":\"contour\"}],\"contourcarpet\":[{\"colorbar\":{\"outlinewidth\":0,\"ticks\":\"\"},\"type\":\"contourcarpet\"}],\"heatmap\":[{\"colorbar\":{\"outlinewidth\":0,\"ticks\":\"\"},\"colorscale\":[[0.0,\"#0d0887\"],[0.1111111111111111,\"#46039f\"],[0.2222222222222222,\"#7201a8\"],[0.3333333333333333,\"#9c179e\"],[0.4444444444444444,\"#bd3786\"],[0.5555555555555556,\"#d8576b\"],[0.6666666666666666,\"#ed7953\"],[0.7777777777777778,\"#fb9f3a\"],[0.8888888888888888,\"#fdca26\"],[1.0,\"#f0f921\"]],\"type\":\"heatmap\"}],\"heatmapgl\":[{\"colorbar\":{\"outlinewidth\":0,\"ticks\":\"\"},\"colorscale\":[[0.0,\"#0d0887\"],[0.1111111111111111,\"#46039f\"],[0.2222222222222222,\"#7201a8\"],[0.3333333333333333,\"#9c179e\"],[0.4444444444444444,\"#bd3786\"],[0.5555555555555556,\"#d8576b\"],[0.6666666666666666,\"#ed7953\"],[0.7777777777777778,\"#fb9f3a\"],[0.8888888888888888,\"#fdca26\"],[1.0,\"#f0f921\"]],\"type\":\"heatmapgl\"}],\"histogram\":[{\"marker\":{\"pattern\":{\"fillmode\":\"overlay\",\"size\":10,\"solidity\":0.2}},\"type\":\"histogram\"}],\"histogram2d\":[{\"colorbar\":{\"outlinewidth\":0,\"ticks\":\"\"},\"colorscale\":[[0.0,\"#0d0887\"],[0.1111111111111111,\"#46039f\"],[0.2222222222222222,\"#7201a8\"],[0.3333333333333333,\"#9c179e\"],[0.4444444444444444,\"#bd3786\"],[0.5555555555555556,\"#d8576b\"],[0.6666666666666666,\"#ed7953\"],[0.7777777777777778,\"#fb9f3a\"],[0.8888888888888888,\"#fdca26\"],[1.0,\"#f0f921\"]],\"type\":\"histogram2d\"}],\"histogram2dcontour\":[{\"colorbar\":{\"outlinewidth\":0,\"ticks\":\"\"},\"colorscale\":[[0.0,\"#0d0887\"],[0.1111111111111111,\"#46039f\"],[0.2222222222222222,\"#7201a8\"],[0.3333333333333333,\"#9c179e\"],[0.4444444444444444,\"#bd3786\"],[0.5555555555555556,\"#d8576b\"],[0.6666666666666666,\"#ed7953\"],[0.7777777777777778,\"#fb9f3a\"],[0.8888888888888888,\"#fdca26\"],[1.0,\"#f0f921\"]],\"type\":\"histogram2dcontour\"}],\"mesh3d\":[{\"colorbar\":{\"outlinewidth\":0,\"ticks\":\"\"},\"type\":\"mesh3d\"}],\"parcoords\":[{\"line\":{\"colorbar\":{\"outlinewidth\":0,\"ticks\":\"\"}},\"type\":\"parcoords\"}],\"pie\":[{\"automargin\":true,\"type\":\"pie\"}],\"scatter\":[{\"marker\":{\"colorbar\":{\"outlinewidth\":0,\"ticks\":\"\"}},\"type\":\"scatter\"}],\"scatter3d\":[{\"line\":{\"colorbar\":{\"outlinewidth\":0,\"ticks\":\"\"}},\"marker\":{\"colorbar\":{\"outlinewidth\":0,\"ticks\":\"\"}},\"type\":\"scatter3d\"}],\"scattercarpet\":[{\"marker\":{\"colorbar\":{\"outlinewidth\":0,\"ticks\":\"\"}},\"type\":\"scattercarpet\"}],\"scattergeo\":[{\"marker\":{\"colorbar\":{\"outlinewidth\":0,\"ticks\":\"\"}},\"type\":\"scattergeo\"}],\"scattergl\":[{\"marker\":{\"colorbar\":{\"outlinewidth\":0,\"ticks\":\"\"}},\"type\":\"scattergl\"}],\"scattermapbox\":[{\"marker\":{\"colorbar\":{\"outlinewidth\":0,\"ticks\":\"\"}},\"type\":\"scattermapbox\"}],\"scatterpolar\":[{\"marker\":{\"colorbar\":{\"outlinewidth\":0,\"ticks\":\"\"}},\"type\":\"scatterpolar\"}],\"scatterpolargl\":[{\"marker\":{\"colorbar\":{\"outlinewidth\":0,\"ticks\":\"\"}},\"type\":\"scatterpolargl\"}],\"scatterternary\":[{\"marker\":{\"colorbar\":{\"outlinewidth\":0,\"ticks\":\"\"}},\"type\":\"scatterternary\"}],\"surface\":[{\"colorbar\":{\"outlinewidth\":0,\"ticks\":\"\"},\"colorscale\":[[0.0,\"#0d0887\"],[0.1111111111111111,\"#46039f\"],[0.2222222222222222,\"#7201a8\"],[0.3333333333333333,\"#9c179e\"],[0.4444444444444444,\"#bd3786\"],[0.5555555555555556,\"#d8576b\"],[0.6666666666666666,\"#ed7953\"],[0.7777777777777778,\"#fb9f3a\"],[0.8888888888888888,\"#fdca26\"],[1.0,\"#f0f921\"]],\"type\":\"surface\"}],\"table\":[{\"cells\":{\"fill\":{\"color\":\"#EBF0F8\"},\"line\":{\"color\":\"white\"}},\"header\":{\"fill\":{\"color\":\"#C8D4E3\"},\"line\":{\"color\":\"white\"}},\"type\":\"table\"}]},\"layout\":{\"annotationdefaults\":{\"arrowcolor\":\"#2a3f5f\",\"arrowhead\":0,\"arrowwidth\":1},\"autotypenumbers\":\"strict\",\"coloraxis\":{\"colorbar\":{\"outlinewidth\":0,\"ticks\":\"\"}},\"colorscale\":{\"diverging\":[[0,\"#8e0152\"],[0.1,\"#c51b7d\"],[0.2,\"#de77ae\"],[0.3,\"#f1b6da\"],[0.4,\"#fde0ef\"],[0.5,\"#f7f7f7\"],[0.6,\"#e6f5d0\"],[0.7,\"#b8e186\"],[0.8,\"#7fbc41\"],[0.9,\"#4d9221\"],[1,\"#276419\"]],\"sequential\":[[0.0,\"#0d0887\"],[0.1111111111111111,\"#46039f\"],[0.2222222222222222,\"#7201a8\"],[0.3333333333333333,\"#9c179e\"],[0.4444444444444444,\"#bd3786\"],[0.5555555555555556,\"#d8576b\"],[0.6666666666666666,\"#ed7953\"],[0.7777777777777778,\"#fb9f3a\"],[0.8888888888888888,\"#fdca26\"],[1.0,\"#f0f921\"]],\"sequentialminus\":[[0.0,\"#0d0887\"],[0.1111111111111111,\"#46039f\"],[0.2222222222222222,\"#7201a8\"],[0.3333333333333333,\"#9c179e\"],[0.4444444444444444,\"#bd3786\"],[0.5555555555555556,\"#d8576b\"],[0.6666666666666666,\"#ed7953\"],[0.7777777777777778,\"#fb9f3a\"],[0.8888888888888888,\"#fdca26\"],[1.0,\"#f0f921\"]]},\"colorway\":[\"#636efa\",\"#EF553B\",\"#00cc96\",\"#ab63fa\",\"#FFA15A\",\"#19d3f3\",\"#FF6692\",\"#B6E880\",\"#FF97FF\",\"#FECB52\"],\"font\":{\"color\":\"#2a3f5f\"},\"geo\":{\"bgcolor\":\"white\",\"lakecolor\":\"white\",\"landcolor\":\"#E5ECF6\",\"showlakes\":true,\"showland\":true,\"subunitcolor\":\"white\"},\"hoverlabel\":{\"align\":\"left\"},\"hovermode\":\"closest\",\"mapbox\":{\"style\":\"light\"},\"paper_bgcolor\":\"white\",\"plot_bgcolor\":\"#E5ECF6\",\"polar\":{\"angularaxis\":{\"gridcolor\":\"white\",\"linecolor\":\"white\",\"ticks\":\"\"},\"bgcolor\":\"#E5ECF6\",\"radialaxis\":{\"gridcolor\":\"white\",\"linecolor\":\"white\",\"ticks\":\"\"}},\"scene\":{\"xaxis\":{\"backgroundcolor\":\"#E5ECF6\",\"gridcolor\":\"white\",\"gridwidth\":2,\"linecolor\":\"white\",\"showbackground\":true,\"ticks\":\"\",\"zerolinecolor\":\"white\"},\"yaxis\":{\"backgroundcolor\":\"#E5ECF6\",\"gridcolor\":\"white\",\"gridwidth\":2,\"linecolor\":\"white\",\"showbackground\":true,\"ticks\":\"\",\"zerolinecolor\":\"white\"},\"zaxis\":{\"backgroundcolor\":\"#E5ECF6\",\"gridcolor\":\"white\",\"gridwidth\":2,\"linecolor\":\"white\",\"showbackground\":true,\"ticks\":\"\",\"zerolinecolor\":\"white\"}},\"shapedefaults\":{\"line\":{\"color\":\"#2a3f5f\"}},\"ternary\":{\"aaxis\":{\"gridcolor\":\"white\",\"linecolor\":\"white\",\"ticks\":\"\"},\"baxis\":{\"gridcolor\":\"white\",\"linecolor\":\"white\",\"ticks\":\"\"},\"bgcolor\":\"#E5ECF6\",\"caxis\":{\"gridcolor\":\"white\",\"linecolor\":\"white\",\"ticks\":\"\"}},\"title\":{\"x\":0.05},\"xaxis\":{\"automargin\":true,\"gridcolor\":\"white\",\"linecolor\":\"white\",\"ticks\":\"\",\"title\":{\"standoff\":15},\"zerolinecolor\":\"white\",\"zerolinewidth\":2},\"yaxis\":{\"automargin\":true,\"gridcolor\":\"white\",\"linecolor\":\"white\",\"ticks\":\"\",\"title\":{\"standoff\":15},\"zerolinecolor\":\"white\",\"zerolinewidth\":2}}},\"xaxis\":{\"anchor\":\"y\",\"domain\":[0.0,1.0],\"title\":{\"text\":\"0\"}},\"yaxis\":{\"anchor\":\"x\",\"domain\":[0.0,1.0],\"title\":{\"text\":\"1\"}},\"legend\":{\"title\":{\"text\":\"color\"},\"tracegroupgap\":0},\"margin\":{\"t\":60}},                        {\"responsive\": true}                    ).then(function(){\n",
       "                            \n",
       "var gd = document.getElementById('7121ef74-c7eb-4a66-909d-6c16ab2b85c6');\n",
       "var x = new MutationObserver(function (mutations, observer) {{\n",
       "        var display = window.getComputedStyle(gd).display;\n",
       "        if (!display || display === 'none') {{\n",
       "            console.log([gd, 'removed!']);\n",
       "            Plotly.purge(gd);\n",
       "            observer.disconnect();\n",
       "        }}\n",
       "}});\n",
       "\n",
       "// Listen for the removal of the full notebook cells\n",
       "var notebookContainer = gd.closest('#notebook-container');\n",
       "if (notebookContainer) {{\n",
       "    x.observe(notebookContainer, {childList: true});\n",
       "}}\n",
       "\n",
       "// Listen for the clearing of the current output cell\n",
       "var outputEl = gd.closest('.output');\n",
       "if (outputEl) {{\n",
       "    x.observe(outputEl, {childList: true});\n",
       "}}\n",
       "\n",
       "                        })                };                });            </script>        </div>"
      ]
     },
     "metadata": {},
     "output_type": "display_data"
    }
   ],
   "source": [
    "fig = px.scatter(components, x=0, y=1, color=df['Agglomerative ID'].astype(\"category\"))\n",
    "fig.show()"
   ]
  },
  {
   "cell_type": "code",
   "execution_count": 96,
   "metadata": {
    "colab": {
     "base_uri": "https://localhost:8080/"
    },
    "executionInfo": {
     "elapsed": 336,
     "status": "ok",
     "timestamp": 1636856215838,
     "user": {
      "displayName": "Thanachart Ritbumroong",
      "photoUrl": "https://lh3.googleusercontent.com/a/default-user=s64",
      "userId": "18414212507793256437"
     },
     "user_tz": -420
    },
    "id": "HsRWk5oHd0UH",
    "outputId": "3652e725-6a84-4f67-d6da-1a4b5fb13a32",
    "scrolled": true
   },
   "outputs": [
    {
     "name": "stdout",
     "output_type": "stream",
     "text": [
      "Cluster ID : 0\n",
      "\n",
      "Most common words include : [('อร่อย', 501), ('รสชาติ', 412), ('ทาน', 405), ('ดี', 346), ('กาแฟ', 316), ('กิน', 314), ('เมนู', 304), ('อาหาร', 279), ('ราคา', 262), ('(', 257)]\n",
      "\n",
      "Cluster ID : 1\n",
      "\n",
      "Most common words include : [('ปลา', 16), ('กิน', 15), ('เค้า', 15), ('ญี่ปุ่น', 9), ('(', 9), ('อร่อย', 7), ('ทาน', 7), (')', 7), ('ชิ้น', 7), ('ดีล', 7)]\n",
      "\n",
      "Cluster ID : 2\n",
      "\n",
      "Most common words include : [('กิน', 12), ('\"', 10), ('จาน', 10), ('-', 9), ('บาท', 7), ('สายพาน', 6), ('ชิ้น', 6), ('เนื้อ', 5), ('อาหาร', 5), ('ราคา', 5)]\n",
      "\n",
      "Cluster ID : 3\n",
      "\n",
      "Most common words include : [('เป็ด', 10), ('บาท', 5), ('ทอด', 4), ('โต๊ะ', 3), ('ทาน', 3), ('ห่าน', 2), ('พะโล้', 2), ('ห้อง', 2), ('เนื้อ', 2), ('จาน', 2)]\n",
      "\n"
     ]
    }
   ],
   "source": [
    "#show top keywords of each cluster\n",
    "\n",
    "top_N_words = 10\n",
    "\n",
    "for i in range(0, len(df_Agglomerative)):\n",
    "  print(f\"Cluster ID : {i}\\n\")\n",
    "  print(f\"Most common words include : {list(df_Agglomerative['texts_count'][i])[:top_N_words]}\\n\")"
   ]
  },
  {
   "cell_type": "markdown",
   "metadata": {
    "id": "3aNJxg2ATtmK"
   },
   "source": [
    "**result discussion**"
   ]
  },
  {
   "cell_type": "markdown",
   "metadata": {
    "id": "cQ2SOjNKT1d7"
   },
   "source": [
    "โมเดล Hierarchical Clustering จัดกลุ่มออกมาได้ผลลัพธ์ที่ imbalance"
   ]
  }
 ],
 "metadata": {
  "colab": {
   "authorship_tag": "ABX9TyPFn/Qs6op6zYiDtlvfGvUN",
   "collapsed_sections": [],
   "name": "Clustering Documents - Universal Sentence Encoder with Clustering.ipynb",
   "provenance": []
  },
  "kernelspec": {
   "display_name": "Python 3 (ipykernel)",
   "language": "python",
   "name": "python3"
  },
  "language_info": {
   "codemirror_mode": {
    "name": "ipython",
    "version": 3
   },
   "file_extension": ".py",
   "mimetype": "text/x-python",
   "name": "python",
   "nbconvert_exporter": "python",
   "pygments_lexer": "ipython3",
   "version": "3.8.10"
  }
 },
 "nbformat": 4,
 "nbformat_minor": 1
}
